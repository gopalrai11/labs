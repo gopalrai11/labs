{
  "nbformat": 4,
  "nbformat_minor": 0,
  "metadata": {
    "colab": {
      "name": "CE613a_lab01_21103040.ipynb",
      "provenance": []
    },
    "kernelspec": {
      "name": "python3",
      "display_name": "Python 3"
    },
    "language_info": {
      "name": "python"
    }
  },
  "cells": [
    {
      "cell_type": "markdown",
      "source": [
        "GOPAL RAI\n",
        " (Roll no- **21103040**)"
      ],
      "metadata": {
        "id": "JQKOy_UWvwIS"
      }
    },
    {
      "cell_type": "markdown",
      "source": [
        "# Question 1\n"
      ],
      "metadata": {
        "id": "M9a4C8-SVQh0"
      }
    },
    {
      "cell_type": "code",
      "source": [
        "roll_no=eval(input(\"Enter the roll no=\",)) #input\n",
        "x=str(roll_no)\n",
        "\n",
        "min_no=''.join(sorted(x))\n",
        "\n",
        "print('min_no=',min_no)        #output\n",
        "\n",
        "max_no=''.join(sorted(x,reverse=True))\n",
        "\n",
        "print('max_no=',max_no)      #output\n"
      ],
      "metadata": {
        "colab": {
          "base_uri": "https://localhost:8080/"
        },
        "id": "wpawZTNfUc20",
        "outputId": "b5015fb6-4909-4b53-e73b-5144deaf5d24"
      },
      "execution_count": 2,
      "outputs": [
        {
          "output_type": "stream",
          "name": "stdout",
          "text": [
            "Enter the roll no=21103040\n",
            "min_no= 00011234\n",
            "max_no= 43211000\n"
          ]
        }
      ]
    },
    {
      "cell_type": "markdown",
      "source": [
        "Question 2\n"
      ],
      "metadata": {
        "id": "lBYM6ej3VYoC"
      }
    },
    {
      "cell_type": "code",
      "source": [
        "x=eval(input(\"Enter the no.=\",)) #input\n",
        "factorial=1\n",
        "for i in range(1,x+1):\n",
        "  factorial=factorial*i\n",
        "  \n",
        "print('factorial=',factorial) #output\n"
      ],
      "metadata": {
        "colab": {
          "base_uri": "https://localhost:8080/"
        },
        "id": "XAoCtGQJVbjj",
        "outputId": "4004ea40-d336-4304-e231-561deeb57368"
      },
      "execution_count": 3,
      "outputs": [
        {
          "output_type": "stream",
          "name": "stdout",
          "text": [
            "Enter the no.=10\n",
            "factorial= 3628800\n"
          ]
        }
      ]
    },
    {
      "cell_type": "markdown",
      "source": [
        "Question 3"
      ],
      "metadata": {
        "id": "R4fsZw0RXrvb"
      }
    },
    {
      "cell_type": "code",
      "source": [
        "from math import pi\n",
        "angle=eval(input(\"Enter the angle in DDMMSS =\",)) #input\n",
        "seconds=angle%100\n",
        "a=angle//100\n",
        "degree=angle//10000\n",
        "minute=a%100\n",
        "deg=degree+ minute/60 + seconds/3600\n",
        "print(\"Angle in radian=\",deg*pi/180) #output"
      ],
      "metadata": {
        "colab": {
          "base_uri": "https://localhost:8080/"
        },
        "id": "6UMa4tbPXt6f",
        "outputId": "5fb89328-de75-4cb4-ce29-40e6601c7a3b"
      },
      "execution_count": 4,
      "outputs": [
        {
          "output_type": "stream",
          "name": "stdout",
          "text": [
            "Enter the angle in DDMMSS =601212\n",
            "Angle in radian= 1.0507463873423195\n"
          ]
        }
      ]
    },
    {
      "cell_type": "code",
      "source": [
        ""
      ],
      "metadata": {
        "id": "L0xOrXmgabii"
      },
      "execution_count": null,
      "outputs": []
    },
    {
      "cell_type": "markdown",
      "source": [
        "Question 4"
      ],
      "metadata": {
        "id": "WT4blhC3dC4e"
      }
    },
    {
      "cell_type": "code",
      "source": [
        "#Prime no. less than the input value\n",
        "x=eval(input(\"Enter the no=\"))\n",
        "for num in range(1,x):\n",
        "   # all prime numbers are less than x\n",
        "   if num > 1:\n",
        "       for i in range(2, num):\n",
        "           if (num % i) == 0:\n",
        "               break\n",
        "       else:\n",
        "           print(num)"
      ],
      "metadata": {
        "colab": {
          "base_uri": "https://localhost:8080/"
        },
        "id": "AmacOIqJdEs5",
        "outputId": "b61176e9-ff41-4202-e79f-051eefd44a7f"
      },
      "execution_count": 5,
      "outputs": [
        {
          "output_type": "stream",
          "name": "stdout",
          "text": [
            "Enter the no=30\n",
            "2\n",
            "3\n",
            "5\n",
            "7\n",
            "11\n",
            "13\n",
            "17\n",
            "19\n",
            "23\n",
            "29\n"
          ]
        }
      ]
    },
    {
      "cell_type": "code",
      "source": [
        ""
      ],
      "metadata": {
        "id": "YJ49ZQLJeMgh"
      },
      "execution_count": null,
      "outputs": []
    },
    {
      "cell_type": "markdown",
      "source": [
        "Question 5"
      ],
      "metadata": {
        "id": "iQFnzeBcefce"
      }
    },
    {
      "cell_type": "code",
      "source": [
        "\n",
        "X0=1000\n",
        "k1=4\n",
        "k2=365\n",
        "r=0.06\n",
        "a=[]\n",
        "b=[]\n",
        "Time=[]\n",
        "for n in range(0,6):\n",
        "  X = X0 * (1 + r /k1)**(k1*n)\n",
        "  X1 = X0 * (1 + r /k2)**(k2*n)\n",
        "  interest1=X-X0\n",
        "  interest2=X1-X0\n",
        "  a=a+[interest1]\n",
        "  b=b+[interest2]\n",
        "  Time=Time+[n]\n",
        "import matplotlib.pyplot as plt\n",
        "plt.title('Interest obtained for both k’s on a single plot')\n",
        "plt.xlabel(\"Time(Year)\")\n",
        "plt.ylabel(\"Interest\")\n",
        "plt.plot(Time,a)\n",
        "plt.plot(Time,b)\n",
        "plt.legend([\"k=4\" ,\"k=365\"])\n",
        "plt.show()"
      ],
      "metadata": {
        "colab": {
          "base_uri": "https://localhost:8080/",
          "height": 295
        },
        "id": "fdGT3bloehKb",
        "outputId": "042e7937-55cf-4b21-c54c-f38bc0213e7e"
      },
      "execution_count": 6,
      "outputs": [
        {
          "output_type": "display_data",
          "data": {
            "image/png": "[encoded data removed]",
            "text/plain": [
              "<Figure size 432x288 with 1 Axes>"
            ]
          },
          "metadata": {
            "needs_background": "light"
          }
        }
      ]
    },
    {
      "cell_type": "markdown",
      "source": [
        "Question 6"
      ],
      "metadata": {
        "id": "cL4XVvpjpyJS"
      }
    },
    {
      "cell_type": "code",
      "source": [
        "from math import sqrt\n",
        "a=eval(input(\"Enter the value of a=\"))\n",
        "b=eval(input(\"Enter the value of b=\"))\n",
        "c=eval(input(\"Enter the value of c=\"))\n",
        "s=(a+b+c)/2\n",
        "ar=(s*(s-a)*(s-b)*(s-c))\n",
        "if ar<=0:\n",
        "  print('These values can not make a traingle')\n",
        "else:\n",
        "  print('The values of a,b,c can make a traingle')\n",
        "  print('area of the triangle=',sqrt(ar))"
      ],
      "metadata": {
        "colab": {
          "base_uri": "https://localhost:8080/"
        },
        "id": "_lR3unpxp2Rs",
        "outputId": "fa9429fb-3dcb-45c8-eaa0-bdfa7db1fbbc"
      },
      "execution_count": null,
      "outputs": [
        {
          "output_type": "stream",
          "name": "stdout",
          "text": [
            "Enter the value of a=6\n",
            "Enter the value of b=5\n",
            "Enter the value of c=4\n",
            "The values of a,b,c can make a traingle\n",
            "area of the triangle= 9.921567416492215\n"
          ]
        }
      ]
    },
    {
      "cell_type": "code",
      "source": [
        ""
      ],
      "metadata": {
        "id": "09qBWa0-vCEO"
      },
      "execution_count": null,
      "outputs": []
    }
  ]
}