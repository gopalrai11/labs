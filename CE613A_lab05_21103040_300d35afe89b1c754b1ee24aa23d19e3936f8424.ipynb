{
  "nbformat": 4,
  "nbformat_minor": 0,
  "metadata": {
    "colab": {
      "name": "CE613A_lab05_21103040.ipynb",
      "provenance": [],
      "collapsed_sections": []
    },
    "kernelspec": {
      "name": "python3",
      "display_name": "Python 3"
    },
    "language_info": {
      "name": "python"
    }
  },
  "cells": [
    {
      "cell_type": "markdown",
      "source": [
        "Gopal Rai\n",
        "(Roll no- 21103040)"
      ],
      "metadata": {
        "id": "UzlH1sKDRFoV"
      }
    },
    {
      "cell_type": "markdown",
      "source": [
        "###1. Isovels (curves of constant velocity) for a compound channel is shown in Fig. 1a. Based on the contours, \n"
      ],
      "metadata": {
        "id": "rDIDD415Q_jV"
      }
    },
    {
      "cell_type": "markdown",
      "source": [
        "###Write a program to estimate the cross-sectional area, wetted perimeter, hydraulic radius and top width for the section as a function of height, H and total width, B. Estimate the value for H=8m and B=20m"
      ],
      "metadata": {
        "id": "uKhXral9Yrf0"
      }
    },
    {
      "cell_type": "code",
      "source": [
        "class Isovels:\n",
        "  def __init__(self,H,B,y):\n",
        "    self.H=H\n",
        "    self.B=B\n",
        "    self.y=y\n",
        "  def Area(self):\n",
        "    if self.y<=0.5*self.H:\n",
        "      Area_I=((0.25*self.B)*self.y)\n",
        "    else:\n",
        "      Area_I=((0.25*self.B)*self.y)+(0.75*self.B)*(self.y-0.5*self.H)\n",
        "    return Area_I\n",
        "  def Wetted_P(self):\n",
        "    if self.y<=0.5*self.H:\n",
        "      Wetted_p=0.25*self.B+2*self.y\n",
        "    else:\n",
        "      Wetted_p=0.25*self.B+self.y+0.5*self.H+0.75*self.B+(self.y-0.5*self.H)\n",
        "    return Wetted_p\n",
        "  def Hydraulic_r(self):\n",
        "    if self.y<=0.5*self.H:\n",
        "      Hydraulic_ri=((0.25*self.B)*self.y)/(0.25*self.B+2*self.y)\n",
        "    else:\n",
        "      Hydraulic_ri=((0.25*self.B)*self.y)+(0.75*self.B)*(self.y-0.5*self.H)/(0.25*self.B+self.y+0.5*self.H+0.75*self.B+(self.y-0.5*self.H))\n",
        "    return Hydraulic_ri    \n",
        "  def Top_W(self):\n",
        "    if self.y<=0.5*self.H:\n",
        "      top_w=0.25*self.B\n",
        "    else:\n",
        "      top_w=self.B\n",
        "    return top_w\n"
      ],
      "metadata": {
        "id": "_tnY2pc3REDi"
      },
      "execution_count": 2,
      "outputs": []
    },
    {
      "cell_type": "code",
      "source": [
        "#y1=float(input('Enter the depth',))\n",
        "data=Isovels(H=8,B=20,y=5)\n",
        "print('The cross-sectional area of the section is' ,data.Area())\n",
        "print('The Wetted perimeter of the section is' ,data.Wetted_P())\n",
        "print('The Hydraulic radius of the section is' ,data.Hydraulic_r())\n",
        "print('The Top width of the section is' ,data.Top_W())"
      ],
      "metadata": {
        "id": "seRRDhjLmY9y",
        "colab": {
          "base_uri": "https://localhost:8080/"
        },
        "outputId": "965c311e-cd57-4924-e644-a2b25f33d24f"
      },
      "execution_count": 6,
      "outputs": [
        {
          "output_type": "stream",
          "name": "stdout",
          "text": [
            "The cross-sectional area of the section is 40.0\n",
            "The Wetted perimeter of the section is 30.0\n",
            "The Hydraulic radius of the section is 25.5\n",
            "The Top width of the section is 20\n"
          ]
        }
      ]
    },
    {
      "cell_type": "markdown",
      "source": [
        "###Write a program to determine the average velocity, the energy and momentum correction coefficients by summing the appropriate quantity for each of the squares shown in Fig. 1b (the velocity in each square may be visually estimated)."
      ],
      "metadata": {
        "id": "N4Hg9VUSY8F_"
      }
    },
    {
      "cell_type": "code",
      "source": [
        "from google.colab import drive\n",
        "drive.mount('/content/drive')"
      ],
      "metadata": {
        "id": "s1HX0lIao8e6",
        "colab": {
          "base_uri": "https://localhost:8080/"
        },
        "outputId": "e081d72b-3033-4a84-a63d-ef18d697f668"
      },
      "execution_count": 7,
      "outputs": [
        {
          "output_type": "stream",
          "name": "stdout",
          "text": [
            "Mounted at /content/drive\n"
          ]
        }
      ]
    },
    {
      "cell_type": "code",
      "source": [
        "import pandas as pd\n",
        "data= pd.read_excel('/content/drive/MyDrive/ce613a_lab/assignmnet-5.xlsx')\n",
        "data1 = data.interpolate(method ='linear', limit_direction ='forward')\n",
        "data1"
      ],
      "metadata": {
        "colab": {
          "base_uri": "https://localhost:8080/",
          "height": 423
        },
        "id": "IGNbCyTszJQV",
        "outputId": "d35346f5-f8a8-4ad1-bcc2-80182c4108cb"
      },
      "execution_count": 8,
      "outputs": [
        {
          "output_type": "execute_result",
          "data": {
            "text/html": [
              "\n",
              "  <div id=\"df-32a5f963-1ca1-401d-897b-6540dc4feb10\">\n",
              "    <div class=\"colab-df-container\">\n",
              "      <div>\n",
              "<style scoped>\n",
              "    .dataframe tbody tr th:only-of-type {\n",
              "        vertical-align: middle;\n",
              "    }\n",
              "\n",
              "    .dataframe tbody tr th {\n",
              "        vertical-align: top;\n",
              "    }\n",
              "\n",
              "    .dataframe thead th {\n",
              "        text-align: right;\n",
              "    }\n",
              "</style>\n",
              "<table border=\"1\" class=\"dataframe\">\n",
              "  <thead>\n",
              "    <tr style=\"text-align: right;\">\n",
              "      <th></th>\n",
              "      <th>H</th>\n",
              "      <th>B</th>\n",
              "      <th>V</th>\n",
              "    </tr>\n",
              "  </thead>\n",
              "  <tbody>\n",
              "    <tr>\n",
              "      <th>0</th>\n",
              "      <td>1</td>\n",
              "      <td>1</td>\n",
              "      <td>0.40</td>\n",
              "    </tr>\n",
              "    <tr>\n",
              "      <th>1</th>\n",
              "      <td>2</td>\n",
              "      <td>1</td>\n",
              "      <td>0.50</td>\n",
              "    </tr>\n",
              "    <tr>\n",
              "      <th>2</th>\n",
              "      <td>3</td>\n",
              "      <td>1</td>\n",
              "      <td>0.50</td>\n",
              "    </tr>\n",
              "    <tr>\n",
              "      <th>3</th>\n",
              "      <td>4</td>\n",
              "      <td>1</td>\n",
              "      <td>0.40</td>\n",
              "    </tr>\n",
              "    <tr>\n",
              "      <th>4</th>\n",
              "      <td>1</td>\n",
              "      <td>2</td>\n",
              "      <td>0.55</td>\n",
              "    </tr>\n",
              "    <tr>\n",
              "      <th>...</th>\n",
              "      <td>...</td>\n",
              "      <td>...</td>\n",
              "      <td>...</td>\n",
              "    </tr>\n",
              "    <tr>\n",
              "      <th>95</th>\n",
              "      <td>4</td>\n",
              "      <td>20</td>\n",
              "      <td>1.30</td>\n",
              "    </tr>\n",
              "    <tr>\n",
              "      <th>96</th>\n",
              "      <td>5</td>\n",
              "      <td>20</td>\n",
              "      <td>1.30</td>\n",
              "    </tr>\n",
              "    <tr>\n",
              "      <th>97</th>\n",
              "      <td>6</td>\n",
              "      <td>20</td>\n",
              "      <td>1.30</td>\n",
              "    </tr>\n",
              "    <tr>\n",
              "      <th>98</th>\n",
              "      <td>7</td>\n",
              "      <td>20</td>\n",
              "      <td>1.30</td>\n",
              "    </tr>\n",
              "    <tr>\n",
              "      <th>99</th>\n",
              "      <td>8</td>\n",
              "      <td>20</td>\n",
              "      <td>1.15</td>\n",
              "    </tr>\n",
              "  </tbody>\n",
              "</table>\n",
              "<p>100 rows × 3 columns</p>\n",
              "</div>\n",
              "      <button class=\"colab-df-convert\" onclick=\"convertToInteractive('df-32a5f963-1ca1-401d-897b-6540dc4feb10')\"\n",
              "              title=\"Convert this dataframe to an interactive table.\"\n",
              "              style=\"display:none;\">\n",
              "        \n",
              "  <svg xmlns=\"http://www.w3.org/2000/svg\" height=\"24px\"viewBox=\"0 0 24 24\"\n",
              "       width=\"24px\">\n",
              "    <path d=\"M0 0h24v24H0V0z\" fill=\"none\"/>\n",
              "    <path d=\"M18.56 5.44l.94 2.06.94-2.06 2.06-.94-2.06-.94-.94-2.06-.94 2.06-2.06.94zm-11 1L8.5 8.5l.94-2.06 2.06-.94-2.06-.94L8.5 2.5l-.94 2.06-2.06.94zm10 10l.94 2.06.94-2.06 2.06-.94-2.06-.94-.94-2.06-.94 2.06-2.06.94z\"/><path d=\"M17.41 7.96l-1.37-1.37c-.4-.4-.92-.59-1.43-.59-.52 0-1.04.2-1.43.59L10.3 9.45l-7.72 7.72c-.78.78-.78 2.05 0 2.83L4 21.41c.39.39.9.59 1.41.59.51 0 1.02-.2 1.41-.59l7.78-7.78 2.81-2.81c.8-.78.8-2.07 0-2.86zM5.41 20L4 18.59l7.72-7.72 1.47 1.35L5.41 20z\"/>\n",
              "  </svg>\n",
              "      </button>\n",
              "      \n",
              "  <style>\n",
              "    .colab-df-container {\n",
              "      display:flex;\n",
              "      flex-wrap:wrap;\n",
              "      gap: 12px;\n",
              "    }\n",
              "\n",
              "    .colab-df-convert {\n",
              "      background-color: #E8F0FE;\n",
              "      border: none;\n",
              "      border-radius: 50%;\n",
              "      cursor: pointer;\n",
              "      display: none;\n",
              "      fill: #1967D2;\n",
              "      height: 32px;\n",
              "      padding: 0 0 0 0;\n",
              "      width: 32px;\n",
              "    }\n",
              "\n",
              "    .colab-df-convert:hover {\n",
              "      background-color: #E2EBFA;\n",
              "      box-shadow: 0px 1px 2px rgba(60, 64, 67, 0.3), 0px 1px 3px 1px rgba(60, 64, 67, 0.15);\n",
              "      fill: #174EA6;\n",
              "    }\n",
              "\n",
              "    [theme=dark] .colab-df-convert {\n",
              "      background-color: #3B4455;\n",
              "      fill: #D2E3FC;\n",
              "    }\n",
              "\n",
              "    [theme=dark] .colab-df-convert:hover {\n",
              "      background-color: #434B5C;\n",
              "      box-shadow: 0px 1px 3px 1px rgba(0, 0, 0, 0.15);\n",
              "      filter: drop-shadow(0px 1px 2px rgba(0, 0, 0, 0.3));\n",
              "      fill: #FFFFFF;\n",
              "    }\n",
              "  </style>\n",
              "\n",
              "      <script>\n",
              "        const buttonEl =\n",
              "          document.querySelector('#df-32a5f963-1ca1-401d-897b-6540dc4feb10 button.colab-df-convert');\n",
              "        buttonEl.style.display =\n",
              "          google.colab.kernel.accessAllowed ? 'block' : 'none';\n",
              "\n",
              "        async function convertToInteractive(key) {\n",
              "          const element = document.querySelector('#df-32a5f963-1ca1-401d-897b-6540dc4feb10');\n",
              "          const dataTable =\n",
              "            await google.colab.kernel.invokeFunction('convertToInteractive',\n",
              "                                                     [key], {});\n",
              "          if (!dataTable) return;\n",
              "\n",
              "          const docLinkHtml = 'Like what you see? Visit the ' +\n",
              "            '<a target=\"_blank\" href=https://colab.research.google.com/notebooks/data_table.ipynb>data table notebook</a>'\n",
              "            + ' to learn more about interactive tables.';\n",
              "          element.innerHTML = '';\n",
              "          dataTable['output_type'] = 'display_data';\n",
              "          await google.colab.output.renderOutput(dataTable, element);\n",
              "          const docLink = document.createElement('div');\n",
              "          docLink.innerHTML = docLinkHtml;\n",
              "          element.appendChild(docLink);\n",
              "        }\n",
              "      </script>\n",
              "    </div>\n",
              "  </div>\n",
              "  "
            ],
            "text/plain": [
              "    H   B     V\n",
              "0   1   1  0.40\n",
              "1   2   1  0.50\n",
              "2   3   1  0.50\n",
              "3   4   1  0.40\n",
              "4   1   2  0.55\n",
              ".. ..  ..   ...\n",
              "95  4  20  1.30\n",
              "96  5  20  1.30\n",
              "97  6  20  1.30\n",
              "98  7  20  1.30\n",
              "99  8  20  1.15\n",
              "\n",
              "[100 rows x 3 columns]"
            ]
          },
          "metadata": {},
          "execution_count": 8
        }
      ]
    },
    {
      "cell_type": "code",
      "source": [
        "#b\n",
        "data2=data1['V'].value_counts().reset_index()\n",
        "data2.columns=['V','No of repetition']\n",
        "data2[\"Multiply\"] = data2[\"V\"] * data2[\"No of repetition\"]\n",
        "sum_V=data2['Multiply'].sum(axis = 0)\n",
        "no_V=data2['No of repetition'].sum(axis = 0)\n",
        "Avg_Velocity=sum_V/no_V\n",
        "print('The average velocity is',Avg_Velocity)"
      ],
      "metadata": {
        "colab": {
          "base_uri": "https://localhost:8080/"
        },
        "id": "h0ic3IkW0Aad",
        "outputId": "ff8a5358-9106-42a9-9f45-baa5029b60ad"
      },
      "execution_count": 9,
      "outputs": [
        {
          "output_type": "stream",
          "name": "stdout",
          "text": [
            "The average velocity is 1.0055\n"
          ]
        }
      ]
    },
    {
      "cell_type": "code",
      "source": [
        "data2[\"alpha\"] = (data2[\"V\"]**3) * data2[\"No of repetition\"]\n",
        "data2[\"Beta\"]= (data2[\"V\"]**2)*data2[\"No of repetition\"]\n",
        "sum_V1=data2['alpha'].sum(axis = 0)\n",
        "sum_V2=data2['Beta'].sum(axis = 0)\n",
        "alpha=sum_V1/(no_V*(Avg_Velocity**3))\n",
        "Beta=sum_V2/(no_V*(Avg_Velocity**2))\n",
        "print('The Energy correction coefficient is',alpha)\n",
        "print('The Momentum correction coefficient is',Beta)"
      ],
      "metadata": {
        "colab": {
          "base_uri": "https://localhost:8080/"
        },
        "id": "KPg2ruMCm0I-",
        "outputId": "85423098-cb95-4623-e0f9-0d399d63f9ab"
      },
      "execution_count": 10,
      "outputs": [
        {
          "output_type": "stream",
          "name": "stdout",
          "text": [
            "The Energy correction coefficient is 1.168443206472478\n",
            "The Momentum correction coefficient is 1.059562757889786\n"
          ]
        }
      ]
    },
    {
      "cell_type": "markdown",
      "source": [
        "###Estimate the average velocity in each vertical subsection by assuming that the average velocity occurs at 0.4 of the local depth, h. Then estimate the average velocity over the entire cross-section based on the estimated velocities in each vertical section. Compare with your previous result"
      ],
      "metadata": {
        "id": "a_9KBdxaZMQn"
      }
    },
    {
      "cell_type": "code",
      "source": [
        "#c(i)\n",
        "l1=[]\n",
        "data3=data1.groupby(['H','B'])['V'].sum().reset_index()\n",
        "def avg_vel(a,b):\n",
        "  v=data3.loc[a:b,'V'].sum()\n",
        "  return v\n",
        "for i in range(0,3):\n",
        "  a=i*5+20\n",
        "  b=i*5+24  \n",
        "  l1.append(avg_vel(a,b)/5)\n",
        "  print(\"The avg velocity of the section\",i+1,'is',avg_vel(a,b)/5)\n",
        "for j in range(0,2):\n",
        "  a=j*2+75\n",
        "  b=j*2+77\n",
        "  l1.append(avg_vel(a,b)/3)\n",
        "  print(\"The avg velocity of the section\",j+4,'is',avg_vel(a,b)/3)\n"
      ],
      "metadata": {
        "colab": {
          "base_uri": "https://localhost:8080/"
        },
        "id": "l6_UDsPsE_is",
        "outputId": "23479197-6b27-4ed4-841d-a1cdff62a297"
      },
      "execution_count": 11,
      "outputs": [
        {
          "output_type": "stream",
          "name": "stdout",
          "text": [
            "The avg velocity of the section 1 is 0.705\n",
            "The avg velocity of the section 2 is 1.065\n",
            "The avg velocity of the section 3 is 1.1750000000000003\n",
            "The avg velocity of the section 4 is 1.0333333333333332\n",
            "The avg velocity of the section 5 is 1.2666666666666666\n"
          ]
        }
      ]
    },
    {
      "cell_type": "code",
      "source": [
        "avg_in=sum(l1) / len(l1)\n",
        "print('The average velocity over the entire cross-section is',avg_in)"
      ],
      "metadata": {
        "colab": {
          "base_uri": "https://localhost:8080/"
        },
        "id": "xa3vFsPSaKgL",
        "outputId": "1c8d6e63-37c9-4002-9e57-dda7fcf53fc0"
      },
      "execution_count": 12,
      "outputs": [
        {
          "output_type": "stream",
          "name": "stdout",
          "text": [
            "The average velocity over the entire cross-section is 1.049\n"
          ]
        }
      ]
    },
    {
      "cell_type": "markdown",
      "source": [
        "##### The avg velocity we get from b part is less than the avg velocity we get after dividing the entire cross-section into five vertical subsections"
      ],
      "metadata": {
        "id": "34Qqur34kC7C"
      }
    },
    {
      "cell_type": "markdown",
      "source": [
        "###Estimate the kinetic energy and momentum correction coefficients based on the values for the vertical subsections. Compare with your previous results"
      ],
      "metadata": {
        "id": "6J8Simh4Za54"
      }
    },
    {
      "cell_type": "code",
      "source": [
        "#c(ii)\n",
        "a1=[]\n",
        "b1=[]\n",
        "for k in l1:\n",
        "  a1=a1+[k**3]\n",
        "  b1=b1+[k**2]\n",
        "alpha_in=sum(a1) / len(a1)\n",
        "print('The kinetic energy correction coefficients based on the values for the vertical subsections',alpha_in/(avg_in**3))\n",
        "beta_in=sum(b1)/len(b1)\n",
        "print('The momentum correction coefficients based on the values for the vertical subsections',beta_in/(avg_in**2))"
      ],
      "metadata": {
        "colab": {
          "base_uri": "https://localhost:8080/"
        },
        "id": "gonQcIYig-VJ",
        "outputId": "521443d9-c6d0-448b-b805-85526a8877e8"
      },
      "execution_count": 13,
      "outputs": [
        {
          "output_type": "stream",
          "name": "stdout",
          "text": [
            "The kinetic energy correction coefficients based on the values for the vertical subsections 1.0943672015463821\n",
            "The momentum correction coefficients based on the values for the vertical subsections 1.0330956119127885\n"
          ]
        }
      ]
    },
    {
      "cell_type": "markdown",
      "source": [
        "##### the kinetic energy and momentum correction coefficients based on the values for the vertical subsections is less than the answers we got when we have used small square "
      ],
      "metadata": {
        "id": "CMyp7e13kuOu"
      }
    },
    {
      "cell_type": "markdown",
      "source": [
        "##Q.2)Consider a symmetric compound channel having the following dimensions: 𝐵 = 1 m, Bf = 3 m, 𝑦f = 1 m, 𝑛 = 0.013, 𝑛f = 0.0144 and channel slope 𝑆0 = 0.0002. For the discharge of 1.6 m3/s, 2.5m3/s and 3.5m3/s"
      ],
      "metadata": {
        "id": "1wz4kH1yITBm"
      }
    },
    {
      "cell_type": "code",
      "source": [
        "#a variation of energy (𝛼) and momentum (𝛽) correction factors with flow depth\n",
        "import numpy as np\n",
        "B=1\n",
        "Bf=3 \n",
        "n=0.013\n",
        "nf=0.0144\n",
        "S0=0.0002\n",
        "depth=[]\n",
        "area=[]\n",
        "w_p=[]\n",
        "w_p1=[]\n",
        "v1=[]\n",
        "vf=[]\n",
        "area1=[]\n",
        "for i in range(0,21):\n",
        "  y=i*0.1\n",
        "  depth=depth+[y]\n",
        "  if y<=1:\n",
        "    Area_=B*y\n",
        "    Area_f=0\n",
        "    wetted_peri=B+2*y\n",
        "    wetted_peri1=0\n",
        "    area.append(Area_)\n",
        "    w_p.append(wetted_peri)\n",
        "    area1.append(Area_f)\n",
        "    w_p1.append(wetted_peri1)\n",
        "    v=((Area_/wetted_peri)**(2/3))*(S0**(1/2))/n\n",
        "    v1.append(v)\n",
        "    vf_=0\n",
        "    vf.append(vf_)\n",
        "  else : \n",
        "    Area_=B*y\n",
        "    Area_f=Bf*(y-1)\n",
        "    wetted_peri1=Bf+(y-1)\n",
        "    wetted_peri=3\n",
        "    area.append(Area_)\n",
        "    w_p.append(wetted_peri)\n",
        "    area1.append(Area_f)\n",
        "    w_p1.append(wetted_peri1)\n",
        "    v=((Area_/(B+2))**(2/3))*(S0**(1/2))/n\n",
        "    vf_=((Bf*(y-1)/(Bf+(y-1)))**(2/3))*(S0**(1/2))/nf\n",
        "    v1.append(v)\n",
        "    vf.append(vf_)\n"
      ],
      "metadata": {
        "id": "yoNNjK5ytdqe"
      },
      "execution_count": 14,
      "outputs": []
    },
    {
      "cell_type": "code",
      "source": [
        "res_list = []\n",
        "t_area=[]\n",
        "v_avg=[0]\n",
        "for i in range(0, len(area)):\n",
        "  res_list.append((v1[i] * area[i])+2*(vf[i] * area1[i]))\n",
        "  t_area.append((area[i] +2* area1[i]))\n",
        "for j in range(1, len(area)):\n",
        "  v_avg.append(res_list[j]/t_area[j])\n"
      ],
      "metadata": {
        "id": "fJiqk9Peg8y3"
      },
      "execution_count": 16,
      "outputs": []
    },
    {
      "cell_type": "code",
      "source": [
        "alpha1=[]\n",
        "for k in range(1,20):\n",
        "  alpha1.append((((v1[k]**3) * area[k])+2*((vf[k]**3)* area1[k]))/((v_avg[k]**3)*t_area[k]))\n",
        "alpha1\n",
        "d=np.arange(0.1,2,0.1)\n",
        "import matplotlib.pyplot as plt\n",
        "plt.plot(d,alpha1,'blue')\n",
        "plt.xlabel('Depth')\n",
        "plt.ylabel('Energy correction factor')\n",
        "plt.title('Variation of energy correction factor with depth')\n",
        "plt.ylim(0.5,1.8)\n",
        "plt.legend(['Energy correction factor'])\n",
        "plt.show()\n"
      ],
      "metadata": {
        "colab": {
          "base_uri": "https://localhost:8080/",
          "height": 295
        },
        "id": "l7M-nO_UZYfs",
        "outputId": "734601a6-a0ab-4940-a61e-df8b5f4bdfae"
      },
      "execution_count": 53,
      "outputs": [
        {
          "output_type": "display_data",
          "data": {
            "image/png": "[encoded data removed]",
            "text/plain": [
              "<Figure size 432x288 with 1 Axes>"
            ]
          },
          "metadata": {
            "needs_background": "light"
          }
        }
      ]
    },
    {
      "cell_type": "code",
      "source": [
        "beta1=[]\n",
        "for k in range(1,20):\n",
        "  beta1.append((((v1[k]**2) * area[k])+2*((vf[k]**2)* area1[k]))/((v_avg[k]**2)*t_area[k]))\n",
        "beta1\n",
        "d=np.arange(0.1,2,0.1)\n",
        "import matplotlib.pyplot as plt\n",
        "plt.plot(d,beta1,'r')\n",
        "plt.xlabel('Depth')\n",
        "plt.ylabel('Momentum correction factor')\n",
        "plt.title('Variation of momentum correction factor with depth')\n",
        "plt.ylim(0.8,1.3)\n",
        "plt.legend(['Momentum correction factor'])\n",
        "plt.show()"
      ],
      "metadata": {
        "colab": {
          "base_uri": "https://localhost:8080/",
          "height": 295
        },
        "id": "KDXWdKgocB0n",
        "outputId": "01800b53-ba38-443a-cf3f-bbb50d124365"
      },
      "execution_count": 51,
      "outputs": [
        {
          "output_type": "display_data",
          "data": {
            "image/png": "[encoded data removed]",
            "text/plain": [
              "<Figure size 432x288 with 1 Axes>"
            ]
          },
          "metadata": {
            "needs_background": "light"
          }
        }
      ]
    },
    {
      "cell_type": "code",
      "source": [
        "#b normal flow depths using divided channel approach with vertical interfaces\n",
        "B=1\n",
        "Bf=3 \n",
        "n=0.013\n",
        "nf=0.0144\n",
        "S0=0.0002\n",
        "from scipy.optimize import newton\n",
        "for Q in [1.6,2.5,3.5]:\n",
        "  def func(y_):\n",
        "    mannings=((B*y_)**(5/3)/(B+2)**(2/3))/n +2*((Bf*(y_-1))**(5/3)/(Bf+(y_-1))**(2/3))/nf -Q/((S0)**(1/2))\n",
        "    return mannings\n",
        "  print('The normal flow depth at',Q,'m3/s discharge is ', newton(func,1),'m')"
      ],
      "metadata": {
        "colab": {
          "base_uri": "https://localhost:8080/"
        },
        "id": "TyUG4OJNeyYU",
        "outputId": "e12ceb06-fe04-488d-a93f-e51150f44ad7"
      },
      "execution_count": 46,
      "outputs": [
        {
          "output_type": "stream",
          "name": "stdout",
          "text": [
            "The normal flow depth at 1.6 m3/s discharge is  1.309242960881066 m\n",
            "The normal flow depth at 2.5 m3/s discharge is  1.467862652517782 m\n",
            "The normal flow depth at 3.5 m3/s discharge is  1.6182558382607655 m\n"
          ]
        }
      ]
    },
    {
      "cell_type": "code",
      "source": [
        "#c the normal flow depths using Horton’s method of equivalent roughness\n",
        "B=1\n",
        "Bf=3 \n",
        "n=0.013\n",
        "nf=0.0144\n",
        "ne=(((B*n**(3/2))+2*(Bf*nf**(3/2)))/(B+2*Bf))**(2/3)\n",
        "S0=0.0002\n",
        "from scipy.optimize import newton\n",
        "for Q in [1.6,2.5,3.5]:\n",
        "  def func(y_):\n",
        "    mannings=((B*y_)**(5/3)/(B+2)**(2/3))/ne +2*((Bf*(y_-1))**(5/3)/(Bf+(y_-1))**(2/3))/ne -Q/((S0)**(1/2))\n",
        "    return mannings\n",
        "  print('The normal flow depth at',Q,'m3/s discharge is ', newton(func,1),'m')"
      ],
      "metadata": {
        "colab": {
          "base_uri": "https://localhost:8080/"
        },
        "id": "zdkC14mzNnJA",
        "outputId": "ff50b438-422a-47cd-bea3-cea2c1663587"
      },
      "execution_count": 48,
      "outputs": [
        {
          "output_type": "stream",
          "name": "stdout",
          "text": [
            "The normal flow depth at 1.6 m3/s discharge is  1.320743274258779 m\n",
            "The normal flow depth at 2.5 m3/s discharge is  1.4780426482186502 m\n",
            "The normal flow depth at 3.5 m3/s discharge is  1.6277035596328424 m\n"
          ]
        }
      ]
    },
    {
      "cell_type": "markdown",
      "source": [
        "The first estimate is better because hortons assumes that the Total cross sectional mean velocity equals to subarea mean velocity for calculation of the discharge, which is not always possible in the compound section.In Horton's approach we take equivalent roughness for the entire cross section whereas in using divided channel approach with vertical interfaces we use diffrent roughness for the floodplains and the main section."
      ],
      "metadata": {
        "id": "DkDDOFilZkXs"
      }
    },
    {
      "cell_type": "code",
      "source": [
        ""
      ],
      "metadata": {
        "id": "OiZT03c5Wc-y"
      },
      "execution_count": null,
      "outputs": []
    }
  ]
}