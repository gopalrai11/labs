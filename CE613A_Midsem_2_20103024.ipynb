{
  "nbformat": 4,
  "nbformat_minor": 0,
  "metadata": {
    "colab": {
      "name": "CE613A Midsem - 2: 20103024.ipynb",
      "provenance": []
    },
    "kernelspec": {
      "name": "python3",
      "display_name": "Python 3"
    }
  },
  "cells": [
    {
      "cell_type": "markdown",
      "metadata": {
        "id": "Y9BusKCYMIyM"
      },
      "source": [
        ""
      ]
    },
    {
      "cell_type": "markdown",
      "metadata": {
        "id": "lFPibuRRMKhR"
      },
      "source": [
        "#Question1\n",
        " Write a code that can do the following on a given value of roll number."
      ]
    },
    {
      "cell_type": "code",
      "metadata": {
        "colab": {
          "base_uri": "https://localhost:8080/",
          "height": 500
        },
        "id": "noxfFjPEBM3k",
        "outputId": "93c5a7ab-e1e8-4efa-b3bc-22ade2101e82"
      },
      "source": [
        "import numpy as np\n",
        "import matplotlib.pyplot as plt\n",
        "roll_num=input('Enter your roll number:')\n",
        "from scipy.stats import pearsonr\n",
        "from scipy import stats\n",
        "from sklearn.metrics import r2_score\n",
        "import statsmodels.api as sm\n",
        "rollnum = [int(x) for x in str(roll_num)]   #converted rull number input as an integer to list\n",
        "x = np.asarray(rollnum)      # to make list of roll number\n",
        "print(x)\n",
        "y = x[::-1]             # to reverse the list of roll number\n",
        "print(\"after reversing the list of roll number array\", y)\n",
        "plt.scatter(x, y, marker='o')\n",
        "plt.xlabel('roll-num list')\n",
        "plt.ylabel('reversed roll-num list')\n",
        "plt.show()\n",
        "plt.savefig('roll-num plot')      # to save figure \n",
        "corr = pearsonr(x, y)    \n",
        "print('Pearsons correlation:', corr)    # for correlation value\n",
        "slope, intercept, r_value, p_value, std_err = stats.linregress(x, y)\n",
        "print(\"slope of regression line\\n\",slope, \"\\nterception of regression line\\n\", intercept) # to determine intercept and slope of regression curve\n",
        "R2 = r2_score(x, y)\n",
        "print('Coefficient of determination:', R2) \n",
        "model = sm.OLS(y, x).fit()\n",
        "predictions = model.predict(2.5)\n",
        "print(\"predicted value of y at x=2.5 is:\", predictions)\n",
        "ci_pred=stats.norm.interval(alpha=0.95, loc=predictions) # to print 95% confidence interval of predicted value of y\n",
        "print(\"95% confidence interval of predicted value\",ci_pred)\n",
        "ci_mean=stats.norm.interval(alpha=0.95, loc=np.mean(y))   #to print confidence interval of mean of y\n",
        "print(\"95% confidence interval of mean\",ci_mean)\n",
        "\n",
        "\n"
      ],
      "execution_count": null,
      "outputs": [
        {
          "output_type": "stream",
          "text": [
            "Enter your roll number:20103024\n",
            "[2 0 1 0 3 0 2 4]\n",
            "after reversing the list of roll number array [4 2 0 3 0 1 0 2]\n"
          ],
          "name": "stdout"
        },
        {
          "output_type": "display_data",
          "data": {
            "image/png": "[encoded data removed]",
            "text/plain": [
              "<Figure size 432x288 with 1 Axes>"
            ]
          },
          "metadata": {
            "tags": [],
            "needs_background": "light"
          }
        },
        {
          "output_type": "stream",
          "text": [
            "Pearsons correlation: (-0.125, 0.7680549621582029)\n",
            "slope of regression line\n",
            " -0.125 \n",
            "terception of regression line\n",
            " 1.6875\n",
            "Coefficient of determination: -1.25\n",
            "predicted value of y at x=2.5 is: [1.17647059]\n",
            "95% confidence interval of predicted value (array([-0.7834934]), array([3.13643457]))\n",
            "95% confidence interval of mean (-0.45996398454005405, 3.459963984540054)\n"
          ],
          "name": "stdout"
        },
        {
          "output_type": "display_data",
          "data": {
            "text/plain": [
              "<Figure size 432x288 with 0 Axes>"
            ]
          },
          "metadata": {
            "tags": []
          }
        }
      ]
    },
    {
      "cell_type": "markdown",
      "metadata": {
        "id": "k1gopg0gWohO"
      },
      "source": [
        "#Question2\n",
        "og is a seasonal phenomenon in North India. It disrupts normal life during winter months. Fog is estimated based on visibility measurements. Given a half-hourly time-series of visibility data, write a program to do the following -"
      ]
    },
    {
      "cell_type": "code",
      "metadata": {
        "id": "7fWMe4qUYkxn"
      },
      "source": [
        "import numpy as np\n",
        "import pandas as pd\n",
        "import matplotlib.pyplot as plt\n",
        "\n",
        "df = pd.read_csv('/content/1614069210_visibility.csv',encoding = 'unicode_escape')\n",
        "#To plot time series data\n",
        "df['visibility'].plot(color='r', label='visibility ')\n",
        "plt.xlabel('Days')\n",
        "plt.ylabel('Visibility in km')\n",
        "plt.legend()\n",
        "plt.show\n",
        "df1=df.resample('1M').mean()\n",
        "print(\"mean of each months viisbility data is\",df1) # for mean of data of each month\n",
        "df2=df.resample('1M').std()\n",
        "print(\"standard deviation  of each months viisbility data is\",df2) # for std of data of each month\n",
        "\n"
      ],
      "execution_count": null,
      "outputs": []
    },
    {
      "cell_type": "markdown",
      "metadata": {
        "id": "payEJJPcMHuS"
      },
      "source": [
        ""
      ]
    },
    {
      "cell_type": "markdown",
      "metadata": {
        "id": "cnqjHZ-MMsAh"
      },
      "source": [
        "#Question3\n",
        "Write a code to compute the discharge for a composite rectangular channel, having different roughness on its bed and the two sides (the roughness of the two sides could also be different from each other). Assume that the equivalent roughness is given by Yen’s formula, i.e., a perimeter-weighted average of the boundary roughness. Use the code to find the discharge in a 0.5 m wide laboratory flume with its bed and one side made of concrete (n=0.015) and the other side made of glass (n=0.009). The bed-slope is 0.0004 and the flow depth is 0.3 m. "
      ]
    },
    {
      "cell_type": "code",
      "metadata": {
        "colab": {
          "base_uri": "https://localhost:8080/"
        },
        "id": "YrCth_i3OIH8",
        "outputId": "8e54fe75-4d57-464b-94a6-ecf8d272dd07"
      },
      "source": [
        "print('Enter the depth of the channel:')\n",
        "d = float(input())\n",
        "print('Enter the Width of the channel: ')\n",
        "w = float(input())\n",
        "n_g = 0.009\n",
        "n_c = 0.015\n",
        "print('Enter the Bedslope of the channel: ')\n",
        "S = float(input())\n",
        "Area = w*d # calculation of area\n",
        "P1 = d                                     #perimeter of glass sides of channel\n",
        "P2 = 0.5      # width\n",
        "P3 = d                             #perimeter of concrete side of channel which is equal to width of channel\n",
        "Peri = w+(2*d)                           # calculation of Perimeter\n",
        "ne = ((P1*n_g)+(P2*n_c)+(P3*n_c))/Peri              # equivalent roughness by yen's method\n",
        "R = Area/Peri             # calculation of HydraulicRadius of channel\n",
        "Vel = (1/ne)*(R)**(2/3)*(S)**0.5      # calculation of velocity\n",
        "Q = Area*Vel # calculation of discharge\n",
        "print(\"\\n Area of the channel is: %.2f\" %Area)\n",
        "print(\" Equivalent roughness of the  channel is: %.3f\" %ne)\n",
        "print(\" Perimeter of the channel is: %.2f\" %Peri)\n",
        "print(\" Hydraulic Radius of the channel is: %.2f\" %R)\n",
        "print(\" Velocity of flow is: %.4f\" %Vel)\n",
        "print(\" Discharge by channel  is: %.4f\" %Q)\n",
        "# to calculate normal depth\n",
        "import math\n",
        "from scipy import optimize\n",
        "Qn = ((ne*Q) / ((w**2.666)*(S**0.5)))**0.6 #Non dimensional discharge Qn\n",
        "#evaluation of non dimensional parameter consisting normal depth\n",
        "def f(eta):\n",
        "  return  eta - Qn*((1+2*eta)**0.4)\n",
        "   \n",
        "eta = optimize.newton(f,Qn) # Using Newton Rapson method\n",
        "yn= eta*w\n",
        "print('The normal depth is %0.4f'%yn)"
      ],
      "execution_count": null,
      "outputs": [
        {
          "output_type": "stream",
          "text": [
            "Enter the depth of the channel:\n",
            "0.3\n",
            "Enter the Width of the channel: \n",
            "0.5\n",
            "Enter the Bedslope of the channel: \n",
            "0.0004\n",
            "\n",
            " Area of the channel is: 0.15\n",
            " Equivalent roughness of the  channel is: 0.013\n",
            " Perimeter of the channel is: 1.10\n",
            " Hydraulic Radius of the channel is: 0.14\n",
            " Velocity of flow is: 0.3965\n",
            " Discharge by channel  is: 0.0595\n",
            "The normal depth is 0.2999\n"
          ],
          "name": "stdout"
        }
      ]
    },
    {
      "cell_type": "code",
      "metadata": {
        "id": "3gJqg-P8Sk7A",
        "colab": {
          "base_uri": "https://localhost:8080/"
        },
        "outputId": "24310f45-aeac-4495-f18b-b2f56001dde3"
      },
      "source": [
        "import math\n",
        "from scipy import optimize\n",
        "w = float(input('Enter the Width of a channel: '))\n",
        "S = float(input('Enter the Bedslope of a channel: '))\n",
        "n = float(input('Enter the equivalent surfaceroughness of the channel: '))\n",
        "Q = float(input(\"Enter the discharge of the channel \")) \n",
        "Qn = ((ne*Q) / ((w*2.666)*(S*0.5)))**0.6 #Non dimensional form of discharge Qn\n",
        "#evaluation of non dimensional parameter containing normal depth\n",
        "def f(eta):\n",
        "  return  eta - Qn*((1+2*eta)**0.4)\n",
        "   \n",
        "eta = optimize.newton(f,Qn) # Using Newton Rapson method\n",
        "yn= eta*w\n",
        "print(yn)"
      ],
      "execution_count": null,
      "outputs": [
        {
          "output_type": "stream",
          "text": [
            "Enter the Width of a channel: 0.5\n",
            "Enter the Bedslope of a channel: 0.0004\n",
            "Enter the equivalent surfaceroughness of the channel: 0.01\n",
            "Enter the discharge of the channel 0.1\n",
            "3.649047804175305\n"
          ],
          "name": "stdout"
        }
      ]
    },
    {
      "cell_type": "code",
      "metadata": {
        "colab": {
          "base_uri": "https://localhost:8080/",
          "height": 129
        },
        "id": "bpj86fvfVC7m",
        "outputId": "2bf5c09d-d56d-4b47-aae1-e873f647c6ce"
      },
      "source": [
        "from scipy import optimize\n",
        "print(\"enter the discharghe value at which u want to know normal depth\")\n",
        "q = float(input())\n",
        "def f(y):\n",
        "  return ((0.5*y)*(1/(0.01)*(((0.5*y)/(0.5+2*y))**(0.667)*(0.0004)**(0.5))-0.1\n",
        "  root = optimize.newton(f, 0.1)\n",
        "  return root\n",
        "print(\"Normal depth is:\", root)"
      ],
      "execution_count": null,
      "outputs": [
        {
          "output_type": "error",
          "ename": "SyntaxError",
          "evalue": "ignored",
          "traceback": [
            "\u001b[0;36m  File \u001b[0;32m\"<ipython-input-8-2d8b4c96013b>\"\u001b[0;36m, line \u001b[0;32m6\u001b[0m\n\u001b[0;31m    root = optimize.newton(f, 0.1)\u001b[0m\n\u001b[0m       ^\u001b[0m\n\u001b[0;31mSyntaxError\u001b[0m\u001b[0;31m:\u001b[0m invalid syntax\n"
          ]
        }
      ]
    },
    {
      "cell_type": "code",
      "source": [
        ""
      ],
      "metadata": {
        "id": "GvFs1dcf3Jvj"
      },
      "execution_count": null,
      "outputs": []
    }
  ]
}