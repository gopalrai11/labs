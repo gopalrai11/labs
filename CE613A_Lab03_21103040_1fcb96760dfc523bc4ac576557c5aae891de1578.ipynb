{
  "nbformat": 4,
  "nbformat_minor": 0,
  "metadata": {
    "kernelspec": {
      "display_name": "Python 3",
      "language": "python",
      "name": "python3"
    },
    "language_info": {
      "codemirror_mode": {
        "name": "ipython",
        "version": 3
      },
      "file_extension": ".py",
      "mimetype": "text/x-python",
      "name": "python",
      "nbconvert_exporter": "python",
      "pygments_lexer": "ipython3",
      "version": "3.7.1"
    },
    "colab": {
      "name": "CE613A_Lab03_21103040.ipynb",
      "provenance": [],
      "collapsed_sections": []
    }
  },
  "cells": [
    {
      "cell_type": "markdown",
      "metadata": {
        "id": "eZnYt8tlYZcO"
      },
      "source": [
        "# CE613 Assignment 3\n",
        "GOPAL RAI (Roll no-21103040)\n",
        "## Topics - Sympy, Scipy libraries introduction"
      ]
    },
    {
      "cell_type": "markdown",
      "metadata": {
        "id": "mHOGa_AKYZcg"
      },
      "source": [
        "### Q1. Scipy Tutorial\n",
        "Kindly refer chapter __7.4__ of the Python textbook."
      ]
    },
    {
      "cell_type": "code",
      "source": [
        ""
      ],
      "metadata": {
        "id": "n2JnQDulZ7US"
      },
      "execution_count": null,
      "outputs": []
    },
    {
      "cell_type": "markdown",
      "metadata": {
        "id": "t0zTwm49YZch"
      },
      "source": [
        "### Q2. Sympy Tutorial\n",
        "Kindly refer chapter __8__ of the Python textbook.\n",
        "\n",
        "\n",
        "*[Evaluation on Q1 & Q2 will be carried out by viva] *  "
      ]
    },
    {
      "cell_type": "markdown",
      "metadata": {
        "id": "Q_S2smdiYZci"
      },
      "source": [
        "### Q3. Bisection Method Problem - \n",
        "Write a program for bisection method and use it to solve the following code.\n",
        "\n",
        "$ f(x) = x^4 - 5x^3 - 12 x^2 +76 x -79 = 0 $\n",
        "\n",
        "Plot the above function and mark the location of roots <br>\n",
        "Solve the above equation by using inbuilt bisection function. "
      ]
    },
    {
      "cell_type": "code",
      "source": [
        "def func(x):\n",
        "\treturn (x**4)-(5*x**3)-(12*x**2)+(76*x)-79\n",
        "\n",
        "\n",
        "def bisection(a,b):\n",
        "\n",
        "\tif (func(a) * func(b) >= 0):\n",
        "\t\tprint(\"You have not assumed right a and b\")\n",
        "\t\treturn\n",
        "\n",
        "\tc = a\n",
        "\twhile ((b-a) >= 0.0001):\t\n",
        "\t\tc = (a+b)/2\n",
        "\t\tif (func(c) == 0.0):\n",
        "\t\t\tbreak\t\t\n",
        "\t\telif (func(c)*func(a) < 0):\n",
        "\t\t\tb = c\n",
        "\t\telse:\n",
        "\t\t\ta = c\n",
        "\t\t\t\n",
        "\tprint(\"The value of root is : \",c)\n",
        "print(\"Enter two initial values to start iteration:\")\t\n",
        "a =float(input(\"Enter the first value: \"))\n",
        "b = float(input(\"Enter the second value: \"))\n",
        "bisection(a, b)\n"
      ],
      "metadata": {
        "colab": {
          "base_uri": "https://localhost:8080/"
        },
        "id": "EZlDCcdvdy9K",
        "outputId": "798be5ca-f7f7-4b8a-ca8a-3a513ff1e361"
      },
      "execution_count": null,
      "outputs": [
        {
          "output_type": "stream",
          "name": "stdout",
          "text": [
            "Enter two initial values to start iteration:\n",
            "Enter the first value: 0\n",
            "Enter the second value: 5\n",
            "The value of root is :  4.9875640869140625\n"
          ]
        }
      ]
    },
    {
      "cell_type": "code",
      "source": [
        "#using inbuilt bisection function\n",
        "import numpy as np\n",
        "import matplotlib.pyplot as plt\n",
        "from scipy import optimize\n",
        "root1 = optimize.bisect(func,-2,-6) \n",
        "root2 = optimize.bisect(func,-2,2)\n",
        "root3 = optimize.bisect(func,4,2)\n",
        "root4 = optimize.bisect(func,4,6)\n",
        "print(\"The roots of f(x) are:\", root1,root2,root3,root4)\n",
        "\n",
        "x_values = np.arange(-5,5,.1)\n",
        "plt.plot(x_values, func(x_values),'m')\n",
        "plt.hlines(0, -5,5)\n",
        "plt.xlabel('x')\n",
        "plt.ylabel('f(x)')\n",
        "plt.plot(root1,0,'ro',root2,0,'ro',root3,0,'ro',root4,0,'ro')\n",
        "plt.title('function and the location of the roots')"
      ],
      "metadata": {
        "colab": {
          "base_uri": "https://localhost:8080/",
          "height": 330
        },
        "id": "bSEinme1gRO1",
        "outputId": "e1136a82-330f-4999-d327-6b576c58e269"
      },
      "execution_count": null,
      "outputs": [
        {
          "output_type": "stream",
          "name": "stdout",
          "text": [
            "The roots of f(x) are: -3.9969093367380992 1.7683868949116004 2.2409886336627096 4.987533808167427\n"
          ]
        },
        {
          "output_type": "execute_result",
          "data": {
            "text/plain": [
              "Text(0.5, 1.0, 'function and the location of the roots')"
            ]
          },
          "metadata": {},
          "execution_count": 3
        },
        {
          "output_type": "display_data",
          "data": {
            "image/png": "[encoded data removed]",
            "text/plain": [
              "<Figure size 432x288 with 1 Axes>"
            ]
          },
          "metadata": {
            "needs_background": "light"
          }
        }
      ]
    },
    {
      "cell_type": "markdown",
      "metadata": {
        "id": "AQaYuFqjYZcj"
      },
      "source": [
        "### Q4. Finding roots of polynomial using numerical method (Newton-Raphson), scipy and sympy\n",
        "Define the following function symbolically<br> \n",
        "$f(x) = (x^{2} - 4x)(x^{2} - 4x + 1) - 20$\n",
        "\n",
        "(a) Expand $f(x)$ using expand.<br> \n",
        "(b) Show that $(x^{2} - 4x + 4)$ is a factor of $f$ by dividing $f$ with this factor.<br> \n",
        "(c) Factorize $f$ using the symbolic function factorize and verify the factor you used in (b).<br> \n",
        "(d) Find the roots of one of the two factors. (Hint: Take one of the factors as an expression and use solve to find two roots).\n",
        "<br> (e) Solve (d) using *Newton Raphson method* and in-built functions from *scipy* <br>\n",
        "(f) Substitute one of the roots for $x$, say $x = x1$, in $f$ and simplify the expression to show that $j(x1) = 0$.<br> "
      ]
    },
    {
      "cell_type": "code",
      "source": [
        "from sympy import *\n",
        "init_printing(use_latex=true)\n",
        "x = Symbol('x')\n",
        "def f(x):\n",
        "  return ((x**2-4*x)*(x**2-4*x+1))-20\n",
        "print(\"The given f(x) in symbolic form is: \")\n",
        "display(f(x))"
      ],
      "metadata": {
        "colab": {
          "base_uri": "https://localhost:8080/",
          "height": 56
        },
        "id": "8pyVelxCjtLy",
        "outputId": "45f5ce64-9498-4e74-b840-c1eb85969bb4"
      },
      "execution_count": null,
      "outputs": [
        {
          "output_type": "stream",
          "name": "stdout",
          "text": [
            "The given f(x) in symbolic form is: \n"
          ]
        },
        {
          "output_type": "display_data",
          "data": {
            "image/png": "[encoded data removed]",
            "text/latex": "$\\displaystyle \\left(x^{2} - 4 x\\right) \\left(x^{2} - 4 x + 1\\right) - 20$",
            "text/plain": [
              "⎛ 2      ⎞ ⎛ 2          ⎞     \n",
              "⎝x  - 4⋅x⎠⋅⎝x  - 4⋅x + 1⎠ - 20"
            ]
          },
          "metadata": {}
        }
      ]
    },
    {
      "cell_type": "code",
      "source": [
        "#a)\n",
        "f_expand=expand(f(x))\n",
        "f_expand"
      ],
      "metadata": {
        "colab": {
          "base_uri": "https://localhost:8080/",
          "height": 39
        },
        "id": "zEo3jZ3xkFMe",
        "outputId": "bd1c0727-3d33-4cce-c6ea-1c0b96a2f54e"
      },
      "execution_count": null,
      "outputs": [
        {
          "output_type": "execute_result",
          "data": {
            "image/png": "[encoded data removed]",
            "text/latex": "$\\displaystyle x^{4} - 8 x^{3} + 17 x^{2} - 4 x - 20$",
            "text/plain": [
              " 4      3       2           \n",
              "x  - 8⋅x  + 17⋅x  - 4⋅x - 20"
            ]
          },
          "metadata": {},
          "execution_count": 5
        }
      ]
    },
    {
      "cell_type": "code",
      "source": [
        "#b)\n",
        "import sympy as sym\n",
        "def g(x):\n",
        "  return x**2-4*x+4\n",
        "quotient,remainder = sym.div(f(x),g(x))\n",
        "print(\"The quotient is:\")\n",
        "display(quotient)\n",
        "if remainder==0:\n",
        "  print(\"The given fuction g(x) is a factor\")\n",
        "else:\n",
        "  print(\"The given fuction g(x) is NOT a factor\")\n",
        "  print(\"Obtained remainder is\", remainder)\n"
      ],
      "metadata": {
        "colab": {
          "base_uri": "https://localhost:8080/",
          "height": 91
        },
        "id": "E0yQhGsgkazG",
        "outputId": "1d9ee86d-11f8-4740-b507-5fa94e2f3083"
      },
      "execution_count": null,
      "outputs": [
        {
          "output_type": "stream",
          "name": "stdout",
          "text": [
            "The quotient is:\n"
          ]
        },
        {
          "output_type": "display_data",
          "data": {
            "image/png": "[encoded data removed]",
            "text/latex": "$\\displaystyle x^{2} - 4 x - 3$",
            "text/plain": [
              " 2          \n",
              "x  - 4⋅x - 3"
            ]
          },
          "metadata": {}
        },
        {
          "output_type": "stream",
          "name": "stdout",
          "text": [
            "The given fuction g(x) is NOT a factor\n",
            "Obtained remainder is -8\n"
          ]
        }
      ]
    },
    {
      "cell_type": "code",
      "source": [
        "#c)\n",
        "factors = factor_list(f(x))\n",
        "print(\"The factors are:\")\n",
        "display(factors)\n"
      ],
      "metadata": {
        "colab": {
          "base_uri": "https://localhost:8080/",
          "height": 56
        },
        "id": "OsuA3P6pm_83",
        "outputId": "d274ae82-39eb-43ca-f38b-5d2a86f5cb75"
      },
      "execution_count": null,
      "outputs": [
        {
          "output_type": "stream",
          "name": "stdout",
          "text": [
            "The factors are:\n"
          ]
        },
        {
          "output_type": "display_data",
          "data": {
            "image/png": "[encoded data removed]",
            "text/latex": "$\\displaystyle \\left( 1, \\  \\left[ \\left( x^{2} - 4 x - 4, \\  1\\right), \\  \\left( x^{2} - 4 x + 5, \\  1\\right)\\right]\\right)$",
            "text/plain": [
              "⎛   ⎡⎛ 2             ⎞  ⎛ 2             ⎞⎤⎞\n",
              "⎝1, ⎣⎝x  - 4⋅x - 4, 1⎠, ⎝x  - 4⋅x + 5, 1⎠⎦⎠"
            ]
          },
          "metadata": {}
        }
      ]
    },
    {
      "cell_type": "code",
      "source": [
        "#d)\n",
        "fact_1 = (factors[1][0][0])**factors[1][0][1]\n",
        "print(\"One of the factor is:\")\n",
        "display(fact_1) \n",
        "roots = solve(fact_1)\n",
        "print(\"Whose roots are:\")\n",
        "display(roots)"
      ],
      "metadata": {
        "colab": {
          "base_uri": "https://localhost:8080/",
          "height": 104
        },
        "id": "NorII-kgno5O",
        "outputId": "b443ed18-0300-4234-b5b2-17d749fff780"
      },
      "execution_count": null,
      "outputs": [
        {
          "output_type": "stream",
          "name": "stdout",
          "text": [
            "One of the factor is:\n"
          ]
        },
        {
          "output_type": "display_data",
          "data": {
            "image/png": "[encoded data removed]",
            "text/latex": "$\\displaystyle x^{2} - 4 x - 4$",
            "text/plain": [
              " 2          \n",
              "x  - 4⋅x - 4"
            ]
          },
          "metadata": {}
        },
        {
          "output_type": "stream",
          "name": "stdout",
          "text": [
            "Whose roots are:\n"
          ]
        },
        {
          "output_type": "display_data",
          "data": {
            "image/png": "[encoded data removed]",
            "text/latex": "$\\displaystyle \\left[ 2 - 2 \\sqrt{2}, \\  2 + 2 \\sqrt{2}\\right]$",
            "text/plain": [
              "[2 - 2⋅√2, 2 + 2⋅√2]"
            ]
          },
          "metadata": {}
        }
      ]
    },
    {
      "cell_type": "code",
      "source": [
        "#e)\n",
        "def func_1( x ):\n",
        "\treturn x**2 - 4*x - 4\n",
        "def derivFunc( x ):\n",
        "\treturn 2*x-4\n",
        "\n",
        "def newtonRaphson( x ):\n",
        "\th = func_1(x) / derivFunc(x)\n",
        "\twhile abs(h) >= 0.0001:\n",
        "\t\th = func_1(x)/derivFunc(x)\n",
        "\t\t\n",
        "\t\t# x(i+1) = x(i) - f(x) / f'(x)\n",
        "\t\tx = x - h\n",
        "\t\n",
        "\tprint(\"The value of the root is : \", x)\n",
        "\n",
        "# Driver program to test above\n",
        "x0 = float(input(\"Please enter an initial guess:\"))\n",
        "newtonRaphson(x0)\n",
        "\n"
      ],
      "metadata": {
        "id": "4KZ8z1zRoea6",
        "colab": {
          "base_uri": "https://localhost:8080/"
        },
        "outputId": "8ebfdec6-5534-4cdc-9ce3-13157582cd34"
      },
      "execution_count": null,
      "outputs": [
        {
          "output_type": "stream",
          "name": "stdout",
          "text": [
            "Please enter an initial guess:0\n",
            "The value of the root is :  -0.8284271247493797\n"
          ]
        }
      ]
    },
    {
      "cell_type": "code",
      "source": [
        "\n",
        "import scipy\n",
        "guess = float(input(\"Enter the initial guess: \"))\n",
        "root = scipy.optimize.newton(func_1,guess)\n",
        "print(\"The value of the root is :\",root)"
      ],
      "metadata": {
        "colab": {
          "base_uri": "https://localhost:8080/"
        },
        "id": "LQORnG60N27d",
        "outputId": "3e678ebc-c23a-4a60-eef3-c2dd588bca3e"
      },
      "execution_count": null,
      "outputs": [
        {
          "output_type": "stream",
          "name": "stdout",
          "text": [
            "Enter the initial guess: 0\n",
            "The value of the root is : -0.8284271247461897\n"
          ]
        }
      ]
    },
    {
      "cell_type": "code",
      "source": [
        "#f)\n",
        "def f1(x):\n",
        "  return ((x**2-4*x)*(x**2-4*x+1))-20\n",
        "print(\"On putting the root of one of the factors in the funtion, result is:\",round(f1(root)))"
      ],
      "metadata": {
        "colab": {
          "base_uri": "https://localhost:8080/"
        },
        "id": "vrls2VJOOImL",
        "outputId": "7395a9ff-ad2f-4328-ac0e-5ab8c6ccd2a9"
      },
      "execution_count": null,
      "outputs": [
        {
          "output_type": "stream",
          "name": "stdout",
          "text": [
            "On putting the root of one of the factors in the funtion, result is: 0\n"
          ]
        }
      ]
    },
    {
      "cell_type": "markdown",
      "metadata": {
        "id": "_ZJpRnEIYZcj"
      },
      "source": [
        "### Q5. Integration by numerical method (Simpson rule and trapezoidal rule), scipy and sympy\n",
        "\n",
        "(a) $\\int_0^\\infty e^{-x}\\,\\text{d}x $\n",
        "\n",
        "(b) $\\int_0^\\infty e^{-x^2}\\,\\text{d}x $\n",
        "\n",
        "(c) $\\int_0^\\infty e^{-x^2} sin(x) \\,\\text{d}x $"
      ]
    },
    {
      "cell_type": "code",
      "source": [
        "import numpy as np\n",
        "\n",
        "def integrand_a(x):\n",
        "  return np.exp(-x)\n",
        "def integrand_b(x):\n",
        "  return np.exp(-x**2)\n",
        "def integrand_c(x):\n",
        "  return np.exp(-x**2)*np.sin(x)"
      ],
      "metadata": {
        "id": "x-2yR6XGO0Jh"
      },
      "execution_count": 45,
      "outputs": []
    },
    {
      "cell_type": "code",
      "source": [
        "#inbuilt_simpson rule_scipy\n",
        "import scipy.integrate as spi\n",
        "x = np.arange(0, 1000)\n",
        "y_a = integrand_a(x)\n",
        "y_b = integrand_b(x)\n",
        "y_c = integrand_c(x)\n",
        "result_a = spi.simps(y_a,x) \n",
        "result_b = spi.simps(y_b,x)\n",
        "result_c = spi.simps(y_c,x)\n",
        "print(\"The result for integral a) is:\", result_a)\n",
        "print(\"The result for integral b) is:\", result_b)\n",
        "print(\"The result for integral c) is:\", result_c)"
      ],
      "metadata": {
        "colab": {
          "base_uri": "https://localhost:8080/"
        },
        "id": "jGumGGbnO15p",
        "outputId": "4dc822f0-9736-4bcd-fc45-5922ec9be35c"
      },
      "execution_count": 46,
      "outputs": [
        {
          "output_type": "stream",
          "name": "stdout",
          "text": [
            "The result for integral a) is: 1.0292999936336131\n",
            "The result for integral b) is: 0.833641889177613\n",
            "The result for integral c) is: 0.3520282256820613\n"
          ]
        }
      ]
    },
    {
      "cell_type": "code",
      "source": [
        "#inbuilt_trapezoidal rule_scipy\n",
        "result_a = spi.trapz(y_a,x)\n",
        "result_b = spi.trapz(y_b,x)\n",
        "result_c = spi.trapz(y_c,x)\n",
        "print(\"The result for integral a) is:\", result_a)\n",
        "print(\"The result for integral b) is:\", result_b)\n",
        "print(\"The result for integral c) is:\", result_c)"
      ],
      "metadata": {
        "colab": {
          "base_uri": "https://localhost:8080/"
        },
        "id": "DnErrgU2O2Hq",
        "outputId": "5ef32bd2-8b6d-444f-dd9c-5b27d42b8ed6"
      },
      "execution_count": 47,
      "outputs": [
        {
          "output_type": "stream",
          "name": "stdout",
          "text": [
            "The result for integral a) is: 1.0819767068693265\n",
            "The result for integral b) is: 0.886318602413326\n",
            "The result for integral c) is: 0.3262315693776354\n"
          ]
        }
      ]
    },
    {
      "cell_type": "code",
      "source": [
        "#Trapezoidal_by_function\n",
        "def trapezoidal(integrand,lower,upper,interval):\n",
        "  width = (upper-lower)/interval\n",
        "  k = (integrand(upper) + integrand(lower))/2\n",
        "  for i in range(1,interval):\n",
        "    k = k + integrand(lower + i*width)\n",
        "  return width*k\n",
        "\n",
        "lower = int(input(\"Enter lower limit: \"))\n",
        "upper = int(input(\"Enter upper limit: \"))\n",
        "interval = int(input(\"Enter number of intervals: \"))\n",
        "\n",
        "result_a = trapezoidal(integrand_a,lower,upper,interval)\n",
        "result_b = trapezoidal(integrand_b,lower,upper,interval)\n",
        "result_c = trapezoidal(integrand_c,lower,upper,interval)\n",
        "print(\"The result for integral a) is:\", result_a)\n",
        "print(\"The result for integral b) is:\", result_b)\n",
        "print(\"The result for integral c) is:\", result_c)"
      ],
      "metadata": {
        "colab": {
          "base_uri": "https://localhost:8080/"
        },
        "id": "ThzlfMGvPx-E",
        "outputId": "fe0836d8-1ded-4724-847c-a73efb3ff886"
      },
      "execution_count": 48,
      "outputs": [
        {
          "output_type": "stream",
          "name": "stdout",
          "text": [
            "Enter lower limit: 0\n",
            "Enter upper limit: 100\n",
            "Enter number of intervals: 100\n",
            "The result for integral a) is: 1.0819767068693267\n",
            "The result for integral b) is: 0.886318602413326\n",
            "The result for integral c) is: 0.32623156937763537\n"
          ]
        }
      ]
    },
    {
      "cell_type": "code",
      "source": [
        "def simpson(integrand,lower,upper,interval):\n",
        "    width = (upper - lower)/interval\n",
        "    xI0 = (integrand(upper) + integrand(lower))\n",
        "    xI1 =0\n",
        "    xI2=0\n",
        "    for i in range(1,interval):\n",
        "        x = lower + i*width\n",
        "        if i%2 == 0: #even\n",
        "            xI2 = xI2 + integrand(x)\n",
        "        else:\n",
        "            xI1 = xI1 + integrand(x)\n",
        "    xI = width*(xI0 + 2*xI2 + 4*xI1)/3\n",
        "    return xI\n",
        "\n",
        "\n",
        "lower = int(input(\"Enter lower limit: \"))\n",
        "upper = int(input(\"Enter upper limit: \"))\n",
        "interval = int(input(\"Enter number of intervals: \"))\n",
        "\n",
        "r_a = simpson(integrand_a,lower,upper,interval)\n",
        "r_b = simpson(integrand_b,lower,upper,interval)\n",
        "r_c = simpson(integrand_c,lower,upper,interval)\n",
        "print(\"The result for integral a) is:\", r_a)\n",
        "print(\"The result for integral b) is:\", r_b)\n",
        "print(\"The result for integral c) is:\", r_c)"
      ],
      "metadata": {
        "colab": {
          "base_uri": "https://localhost:8080/"
        },
        "id": "-1eCh7jKSpOn",
        "outputId": "a3eb11f0-9913-4b35-9d94-537610a913ea"
      },
      "execution_count": 49,
      "outputs": [
        {
          "output_type": "stream",
          "name": "stdout",
          "text": [
            "Enter lower limit: 0\n",
            "Enter upper limit: 100\n",
            "Enter number of intervals: 100\n",
            "The result for integral a) is: 1.004957180659325\n",
            "The result for integral b) is: 0.8362143022684955\n",
            "The result for integral c) is: 0.42387257373998494\n"
          ]
        }
      ]
    },
    {
      "cell_type": "code",
      "source": [
        "1#using sympy\n",
        "from sympy import *\n",
        "init_printing(use_latex=true)\n",
        "x = var('x')\n",
        "k=var('k')\n",
        "\n",
        "integrand_a = exp(-x)\n",
        "integrand_b = exp(-x**2)\n",
        "integrand_c = exp(-x**2)*sin(k*x)\n",
        "\n",
        "\n",
        "result_a = integrate(integrand_a,(x,0,oo))\n",
        "result_b = integrate(integrand_b,(x,0,oo))\n",
        "result_c = integrate(integrand_c,(x,0,oo))\n",
        "result_c = result_c.subs(k,1)\n",
        "print(\"The result for integral a) is:\")\n",
        "display(result_a)\n",
        "print(\"The result for integral b) is:\")\n",
        "display (result_b)\n",
        "print(\"The result for integral c) is:\")\n",
        "display(result_c)"
      ],
      "metadata": {
        "colab": {
          "base_uri": "https://localhost:8080/",
          "height": 167
        },
        "id": "jATe-hBNRm8P",
        "outputId": "64452dae-3fea-4cdb-90ab-dca08c98cd4a"
      },
      "execution_count": 50,
      "outputs": [
        {
          "output_type": "stream",
          "name": "stdout",
          "text": [
            "The result for integral a) is:\n"
          ]
        },
        {
          "output_type": "display_data",
          "data": {
            "image/png": "[encoded data removed]",
            "text/latex": "$\\displaystyle 1$",
            "text/plain": [
              "1"
            ]
          },
          "metadata": {}
        },
        {
          "output_type": "stream",
          "name": "stdout",
          "text": [
            "The result for integral b) is:\n"
          ]
        },
        {
          "output_type": "display_data",
          "data": {
            "image/png": "[encoded data removed]",
            "text/latex": "$\\displaystyle \\frac{\\sqrt{\\pi}}{2}$",
            "text/plain": [
              "√π\n",
              "──\n",
              "2 "
            ]
          },
          "metadata": {}
        },
        {
          "output_type": "stream",
          "name": "stdout",
          "text": [
            "The result for integral c) is:\n"
          ]
        },
        {
          "output_type": "display_data",
          "data": {
            "image/png": "[encoded data removed]",
            "text/latex": "$\\displaystyle - \\frac{i \\sqrt{\\pi} \\operatorname{erf}{\\left(\\frac{i}{2} \\right)}}{2 e^{\\frac{1}{4}}}$",
            "text/plain": [
              "       -1/4    ⎛ⅈ⎞ \n",
              "-ⅈ⋅√π⋅ℯ    ⋅erf⎜─⎟ \n",
              "               ⎝2⎠ \n",
              "───────────────────\n",
              "         2         "
            ]
          },
          "metadata": {}
        }
      ]
    },
    {
      "cell_type": "markdown",
      "metadata": {
        "id": "oi7uxOxYYZck"
      },
      "source": [
        "### Q6. Solving differential equation using scipy and sympy\n",
        "\n",
        "(a) $\\frac {dx}{dt} + x^2 = 0,  x(0) =x_0$\n",
        "\n",
        "(b)$\\frac {d^2y}{dt^2} + w^2y = 0,  y(0) =y_0, \\frac {dy}{dt}(0) = v_0$"
      ]
    },
    {
      "cell_type": "code",
      "source": [
        "#Using Sympy\n",
        "from sympy import *\n",
        "init_printing(use_latex=true)\n",
        "\n",
        "t = Symbol(\"t\")\n",
        "x = Function(\"x\")\n",
        "x_0 = Symbol(\"x_0\")\n",
        "\n",
        "ode_a = Eq(x(t).diff(t)-x(t)**2,0)\n",
        "print(\"The 1st differential equation is:\")\n",
        "display(ode_a)\n",
        "print(\"Its solution is:\")\n",
        "display(dsolve(ode_a,x(t),ics={x(0):x_0}))\n",
        "\n",
        "\n",
        "\n",
        "y = Function(\"y\")\n",
        "w = Symbol(\"w\")\n",
        "y_0 = Symbol(\"y_0\")\n",
        "v_0 = Symbol(\"v_0\")\n",
        "\n",
        "ode_b = Eq(y(t).diff(t,t)+(w**2)*y(t),0)\n",
        "print(\"The 2nd differential equation is:\")\n",
        "display(ode_b)\n",
        "print(\"Its solution is:\")\n",
        "display(dsolve(ode_b,y(t),ics={y(0):y_0,y(t).diff(t).subs(t, 0): v_0}))\n"
      ],
      "metadata": {
        "colab": {
          "base_uri": "https://localhost:8080/",
          "height": 237
        },
        "id": "rKbXqzHPaEuA",
        "outputId": "1c148222-bf9f-4042-bbb1-e425482b86c9"
      },
      "execution_count": null,
      "outputs": [
        {
          "output_type": "stream",
          "name": "stdout",
          "text": [
            "The 1st differential equation is:\n"
          ]
        },
        {
          "output_type": "display_data",
          "data": {
            "image/png": "[encoded data removed]",
            "text/latex": "$\\displaystyle - x^{2}{\\left(t \\right)} + \\frac{d}{d t} x{\\left(t \\right)} = 0$",
            "text/plain": [
              "   2      d           \n",
              "- x (t) + ──(x(t)) = 0\n",
              "          dt          "
            ]
          },
          "metadata": {}
        },
        {
          "output_type": "stream",
          "name": "stdout",
          "text": [
            "Its solution is:\n"
          ]
        },
        {
          "output_type": "display_data",
          "data": {
            "image/png": "[encoded data removed]",
            "text/latex": "$\\displaystyle x{\\left(t \\right)} = - \\frac{1}{t - \\frac{1}{x_{0}}}$",
            "text/plain": [
              "        -1   \n",
              "x(t) = ──────\n",
              "           1 \n",
              "       t - ──\n",
              "           x₀"
            ]
          },
          "metadata": {}
        },
        {
          "output_type": "stream",
          "name": "stdout",
          "text": [
            "The 2nd differential equation is:\n"
          ]
        },
        {
          "output_type": "display_data",
          "data": {
            "image/png": "[encoded data removed]",
            "text/latex": "$\\displaystyle w^{2} y{\\left(t \\right)} + \\frac{d^{2}}{d t^{2}} y{\\left(t \\right)} = 0$",
            "text/plain": [
              "            2          \n",
              " 2         d           \n",
              "w ⋅y(t) + ───(y(t)) = 0\n",
              "            2          \n",
              "          dt           "
            ]
          },
          "metadata": {}
        },
        {
          "output_type": "stream",
          "name": "stdout",
          "text": [
            "Its solution is:\n"
          ]
        },
        {
          "output_type": "display_data",
          "data": {
            "image/png": "[encoded data removed]",
            "text/latex": "$\\displaystyle y{\\left(t \\right)} = \\frac{i \\left(- v_{0} - i w y_{0}\\right) e^{i t w}}{2 w} + \\frac{i \\left(v_{0} - i w y_{0}\\right) e^{- i t w}}{2 w}$",
            "text/plain": [
              "                         ⅈ⋅t⋅w                    -ⅈ⋅t⋅w\n",
              "       ⅈ⋅(-v₀ - ⅈ⋅w⋅y₀)⋅ℯ        ⅈ⋅(v₀ - ⅈ⋅w⋅y₀)⋅ℯ      \n",
              "y(t) = ─────────────────────── + ───────────────────────\n",
              "                 2⋅w                       2⋅w          "
            ]
          },
          "metadata": {}
        }
      ]
    },
    {
      "cell_type": "code",
      "source": [
        "#Using scipy\n",
        "import numpy as np\n",
        "import matplotlib.pyplot as plt\n",
        "\n",
        "from scipy import integrate\n",
        "\n",
        "def dxdt(x,t):\n",
        "  return -x**2\n",
        "t = np.linspace(0,5,100)\n",
        "x0 = [1,2,3,4,5]\n",
        "solution_a = integrate.odeint(dxdt,x0,t)\n",
        "plt.plot(t,solution_a)\n",
        "plt.xlabel(\"t\")\n",
        "plt.ylabel(\"x\")\n",
        "plt.title(\"Numerical Solution\")\n",
        "plt.legend([\"For x_0 = 1\",\"For x_0 = 2\",\"For x_0 = 3\",\"For x_0 = 4\",\"For x_0 = 5\"],loc =\"best\")"
      ],
      "metadata": {
        "colab": {
          "base_uri": "https://localhost:8080/",
          "height": 313
        },
        "id": "ieIOSjZwbZro",
        "outputId": "31ab4c65-70c1-4fc3-e68a-961e2b241514"
      },
      "execution_count": null,
      "outputs": [
        {
          "output_type": "execute_result",
          "data": {
            "text/plain": [
              "<matplotlib.legend.Legend at 0x7f281cb11ed0>"
            ]
          },
          "metadata": {},
          "execution_count": 21
        },
        {
          "output_type": "display_data",
          "data": {
            "image/png": "[encoded data removed]",
            "text/plain": [
              "<Figure size 432x288 with 1 Axes>"
            ]
          },
          "metadata": {
            "needs_background": "light"
          }
        }
      ]
    },
    {
      "cell_type": "markdown",
      "metadata": {
        "id": "WBGRj0dxYZcl"
      },
      "source": [
        "### Q7. Time series data plotting and statistics exercise\n",
        "\n",
        "Using the daily weather data of Kanpur provided in excel sheet, do the following.\n",
        "\n",
        "(a) plot daily, monthly and seasonal timeseries for all the variables.<br>\n",
        "(b) estimate basic statistical properties (mean, median, standard deviation, skeweness and kurtosis) for all the variables at daily and monthly time steps. <br>\n",
        "Hint: You may have to fill the missing values using an appropriate method<br>\n",
        "Please save the plots in publication quality plots in suitable file format. You can visit the 'Guide for authors' section for finding the suitable format and resolution etc. "
      ]
    },
    {
      "cell_type": "code",
      "source": [
        "from google.colab import drive\n",
        "drive.mount('/content/drive')"
      ],
      "metadata": {
        "colab": {
          "base_uri": "https://localhost:8080/"
        },
        "id": "kDHulkgppJ-x",
        "outputId": "8e42e959-e12c-4a13-fc8c-60434f50e117"
      },
      "execution_count": null,
      "outputs": [
        {
          "output_type": "stream",
          "name": "stdout",
          "text": [
            "Mounted at /content/drive\n"
          ]
        }
      ]
    },
    {
      "cell_type": "code",
      "source": [
        "import pandas as pd\n",
        "data= pd.read_csv('/content/drive/MyDrive/ce613a_lab/WeatherData_Kanpur.csv',index_col=0, parse_dates=True,encoding = 'unicode_escape')\n",
        "data"
      ],
      "metadata": {
        "colab": {
          "base_uri": "https://localhost:8080/",
          "height": 499
        },
        "id": "PKTvOanQpeKv",
        "outputId": "027c3f5b-0e7a-4027-a5af-469359c95699"
      },
      "execution_count": null,
      "outputs": [
        {
          "output_type": "execute_result",
          "data": {
            "text/html": [
              "\n",
              "  <div id=\"df-8353fac9-7ab0-4011-899c-145db0db18cd\">\n",
              "    <div class=\"colab-df-container\">\n",
              "      <div>\n",
              "<style scoped>\n",
              "    .dataframe tbody tr th:only-of-type {\n",
              "        vertical-align: middle;\n",
              "    }\n",
              "\n",
              "    .dataframe tbody tr th {\n",
              "        vertical-align: top;\n",
              "    }\n",
              "\n",
              "    .dataframe thead th {\n",
              "        text-align: right;\n",
              "    }\n",
              "</style>\n",
              "<table border=\"1\" class=\"dataframe\">\n",
              "  <thead>\n",
              "    <tr style=\"text-align: right;\">\n",
              "      <th></th>\n",
              "      <th>MaxTemp (°C)</th>\n",
              "      <th>MinTemp (°C)</th>\n",
              "      <th>Rainfall (mm)</th>\n",
              "      <th>Humidity at 8:30 AM (%)</th>\n",
              "      <th>Humidity at 5:30 PM (%)</th>\n",
              "      <th>WindSpeed (m/s)</th>\n",
              "      <th>WindDirection (° azimuth)</th>\n",
              "    </tr>\n",
              "    <tr>\n",
              "      <th>Date</th>\n",
              "      <th></th>\n",
              "      <th></th>\n",
              "      <th></th>\n",
              "      <th></th>\n",
              "      <th></th>\n",
              "      <th></th>\n",
              "      <th></th>\n",
              "    </tr>\n",
              "  </thead>\n",
              "  <tbody>\n",
              "    <tr>\n",
              "      <th>2018-01-01</th>\n",
              "      <td>15.90</td>\n",
              "      <td>9.62</td>\n",
              "      <td>0.0</td>\n",
              "      <td>99.82</td>\n",
              "      <td>95.41</td>\n",
              "      <td>0.76</td>\n",
              "      <td>NaN</td>\n",
              "    </tr>\n",
              "    <tr>\n",
              "      <th>2018-01-02</th>\n",
              "      <td>16.35</td>\n",
              "      <td>7.43</td>\n",
              "      <td>0.0</td>\n",
              "      <td>97.89</td>\n",
              "      <td>87.56</td>\n",
              "      <td>0.82</td>\n",
              "      <td>NaN</td>\n",
              "    </tr>\n",
              "    <tr>\n",
              "      <th>2018-01-03</th>\n",
              "      <td>15.18</td>\n",
              "      <td>6.45</td>\n",
              "      <td>0.0</td>\n",
              "      <td>99.94</td>\n",
              "      <td>91.21</td>\n",
              "      <td>0.59</td>\n",
              "      <td>NaN</td>\n",
              "    </tr>\n",
              "    <tr>\n",
              "      <th>2018-01-04</th>\n",
              "      <td>15.33</td>\n",
              "      <td>4.83</td>\n",
              "      <td>0.0</td>\n",
              "      <td>99.18</td>\n",
              "      <td>86.52</td>\n",
              "      <td>0.79</td>\n",
              "      <td>NaN</td>\n",
              "    </tr>\n",
              "    <tr>\n",
              "      <th>2018-01-05</th>\n",
              "      <td>13.70</td>\n",
              "      <td>4.35</td>\n",
              "      <td>0.0</td>\n",
              "      <td>99.44</td>\n",
              "      <td>91.81</td>\n",
              "      <td>1.00</td>\n",
              "      <td>NaN</td>\n",
              "    </tr>\n",
              "    <tr>\n",
              "      <th>...</th>\n",
              "      <td>...</td>\n",
              "      <td>...</td>\n",
              "      <td>...</td>\n",
              "      <td>...</td>\n",
              "      <td>...</td>\n",
              "      <td>...</td>\n",
              "      <td>...</td>\n",
              "    </tr>\n",
              "    <tr>\n",
              "      <th>2019-01-18</th>\n",
              "      <td>NaN</td>\n",
              "      <td>NaN</td>\n",
              "      <td>NaN</td>\n",
              "      <td>NaN</td>\n",
              "      <td>NaN</td>\n",
              "      <td>NaN</td>\n",
              "      <td>NaN</td>\n",
              "    </tr>\n",
              "    <tr>\n",
              "      <th>2019-01-19</th>\n",
              "      <td>NaN</td>\n",
              "      <td>NaN</td>\n",
              "      <td>NaN</td>\n",
              "      <td>NaN</td>\n",
              "      <td>NaN</td>\n",
              "      <td>NaN</td>\n",
              "      <td>NaN</td>\n",
              "    </tr>\n",
              "    <tr>\n",
              "      <th>2019-01-20</th>\n",
              "      <td>NaN</td>\n",
              "      <td>NaN</td>\n",
              "      <td>NaN</td>\n",
              "      <td>NaN</td>\n",
              "      <td>NaN</td>\n",
              "      <td>NaN</td>\n",
              "      <td>NaN</td>\n",
              "    </tr>\n",
              "    <tr>\n",
              "      <th>2019-01-21</th>\n",
              "      <td>NaN</td>\n",
              "      <td>NaN</td>\n",
              "      <td>NaN</td>\n",
              "      <td>NaN</td>\n",
              "      <td>NaN</td>\n",
              "      <td>NaN</td>\n",
              "      <td>NaN</td>\n",
              "    </tr>\n",
              "    <tr>\n",
              "      <th>2019-01-22</th>\n",
              "      <td>NaN</td>\n",
              "      <td>NaN</td>\n",
              "      <td>NaN</td>\n",
              "      <td>NaN</td>\n",
              "      <td>NaN</td>\n",
              "      <td>NaN</td>\n",
              "      <td>NaN</td>\n",
              "    </tr>\n",
              "  </tbody>\n",
              "</table>\n",
              "<p>387 rows × 7 columns</p>\n",
              "</div>\n",
              "      <button class=\"colab-df-convert\" onclick=\"convertToInteractive('df-8353fac9-7ab0-4011-899c-145db0db18cd')\"\n",
              "              title=\"Convert this dataframe to an interactive table.\"\n",
              "              style=\"display:none;\">\n",
              "        \n",
              "  <svg xmlns=\"http://www.w3.org/2000/svg\" height=\"24px\"viewBox=\"0 0 24 24\"\n",
              "       width=\"24px\">\n",
              "    <path d=\"M0 0h24v24H0V0z\" fill=\"none\"/>\n",
              "    <path d=\"M18.56 5.44l.94 2.06.94-2.06 2.06-.94-2.06-.94-.94-2.06-.94 2.06-2.06.94zm-11 1L8.5 8.5l.94-2.06 2.06-.94-2.06-.94L8.5 2.5l-.94 2.06-2.06.94zm10 10l.94 2.06.94-2.06 2.06-.94-2.06-.94-.94-2.06-.94 2.06-2.06.94z\"/><path d=\"M17.41 7.96l-1.37-1.37c-.4-.4-.92-.59-1.43-.59-.52 0-1.04.2-1.43.59L10.3 9.45l-7.72 7.72c-.78.78-.78 2.05 0 2.83L4 21.41c.39.39.9.59 1.41.59.51 0 1.02-.2 1.41-.59l7.78-7.78 2.81-2.81c.8-.78.8-2.07 0-2.86zM5.41 20L4 18.59l7.72-7.72 1.47 1.35L5.41 20z\"/>\n",
              "  </svg>\n",
              "      </button>\n",
              "      \n",
              "  <style>\n",
              "    .colab-df-container {\n",
              "      display:flex;\n",
              "      flex-wrap:wrap;\n",
              "      gap: 12px;\n",
              "    }\n",
              "\n",
              "    .colab-df-convert {\n",
              "      background-color: #E8F0FE;\n",
              "      border: none;\n",
              "      border-radius: 50%;\n",
              "      cursor: pointer;\n",
              "      display: none;\n",
              "      fill: #1967D2;\n",
              "      height: 32px;\n",
              "      padding: 0 0 0 0;\n",
              "      width: 32px;\n",
              "    }\n",
              "\n",
              "    .colab-df-convert:hover {\n",
              "      background-color: #E2EBFA;\n",
              "      box-shadow: 0px 1px 2px rgba(60, 64, 67, 0.3), 0px 1px 3px 1px rgba(60, 64, 67, 0.15);\n",
              "      fill: #174EA6;\n",
              "    }\n",
              "\n",
              "    [theme=dark] .colab-df-convert {\n",
              "      background-color: #3B4455;\n",
              "      fill: #D2E3FC;\n",
              "    }\n",
              "\n",
              "    [theme=dark] .colab-df-convert:hover {\n",
              "      background-color: #434B5C;\n",
              "      box-shadow: 0px 1px 3px 1px rgba(0, 0, 0, 0.15);\n",
              "      filter: drop-shadow(0px 1px 2px rgba(0, 0, 0, 0.3));\n",
              "      fill: #FFFFFF;\n",
              "    }\n",
              "  </style>\n",
              "\n",
              "      <script>\n",
              "        const buttonEl =\n",
              "          document.querySelector('#df-8353fac9-7ab0-4011-899c-145db0db18cd button.colab-df-convert');\n",
              "        buttonEl.style.display =\n",
              "          google.colab.kernel.accessAllowed ? 'block' : 'none';\n",
              "\n",
              "        async function convertToInteractive(key) {\n",
              "          const element = document.querySelector('#df-8353fac9-7ab0-4011-899c-145db0db18cd');\n",
              "          const dataTable =\n",
              "            await google.colab.kernel.invokeFunction('convertToInteractive',\n",
              "                                                     [key], {});\n",
              "          if (!dataTable) return;\n",
              "\n",
              "          const docLinkHtml = 'Like what you see? Visit the ' +\n",
              "            '<a target=\"_blank\" href=https://colab.research.google.com/notebooks/data_table.ipynb>data table notebook</a>'\n",
              "            + ' to learn more about interactive tables.';\n",
              "          element.innerHTML = '';\n",
              "          dataTable['output_type'] = 'display_data';\n",
              "          await google.colab.output.renderOutput(dataTable, element);\n",
              "          const docLink = document.createElement('div');\n",
              "          docLink.innerHTML = docLinkHtml;\n",
              "          element.appendChild(docLink);\n",
              "        }\n",
              "      </script>\n",
              "    </div>\n",
              "  </div>\n",
              "  "
            ],
            "text/plain": [
              "            MaxTemp (°C)  ...  WindDirection (° azimuth)\n",
              "Date                      ...                           \n",
              "2018-01-01         15.90  ...                        NaN\n",
              "2018-01-02         16.35  ...                        NaN\n",
              "2018-01-03         15.18  ...                        NaN\n",
              "2018-01-04         15.33  ...                        NaN\n",
              "2018-01-05         13.70  ...                        NaN\n",
              "...                  ...  ...                        ...\n",
              "2019-01-18           NaN  ...                        NaN\n",
              "2019-01-19           NaN  ...                        NaN\n",
              "2019-01-20           NaN  ...                        NaN\n",
              "2019-01-21           NaN  ...                        NaN\n",
              "2019-01-22           NaN  ...                        NaN\n",
              "\n",
              "[387 rows x 7 columns]"
            ]
          },
          "metadata": {},
          "execution_count": 23
        }
      ]
    },
    {
      "cell_type": "code",
      "source": [
        "data['Year'] = data.index.year\n",
        "data['Month'] = data.index.month\n",
        "data['Day'] = data.index.day\n"
      ],
      "metadata": {
        "id": "IM8Pgd0Yq4J2"
      },
      "execution_count": null,
      "outputs": []
    },
    {
      "cell_type": "code",
      "source": [
        "\n",
        "dataf1 = data.drop(columns = ['WindDirection (° azimuth)'],errors='ignore')\n",
        "dataf2 = dataf1.interpolate(method ='linear', limit_direction ='forward')\n",
        "dataf2.loc['2018-12'].tail(10)"
      ],
      "metadata": {
        "colab": {
          "base_uri": "https://localhost:8080/",
          "height": 394
        },
        "id": "WOGTyu-trs7d",
        "outputId": "daed4aff-fcf4-48ae-c04e-71d532baafc7"
      },
      "execution_count": null,
      "outputs": [
        {
          "output_type": "execute_result",
          "data": {
            "text/html": [
              "\n",
              "  <div id=\"df-a1ebb945-a356-4f47-9c75-98ed15fc9502\">\n",
              "    <div class=\"colab-df-container\">\n",
              "      <div>\n",
              "<style scoped>\n",
              "    .dataframe tbody tr th:only-of-type {\n",
              "        vertical-align: middle;\n",
              "    }\n",
              "\n",
              "    .dataframe tbody tr th {\n",
              "        vertical-align: top;\n",
              "    }\n",
              "\n",
              "    .dataframe thead th {\n",
              "        text-align: right;\n",
              "    }\n",
              "</style>\n",
              "<table border=\"1\" class=\"dataframe\">\n",
              "  <thead>\n",
              "    <tr style=\"text-align: right;\">\n",
              "      <th></th>\n",
              "      <th>MaxTemp (°C)</th>\n",
              "      <th>MinTemp (°C)</th>\n",
              "      <th>Rainfall (mm)</th>\n",
              "      <th>Humidity at 8:30 AM (%)</th>\n",
              "      <th>Humidity at 5:30 PM (%)</th>\n",
              "      <th>WindSpeed (m/s)</th>\n",
              "      <th>Year</th>\n",
              "      <th>Month</th>\n",
              "      <th>Day</th>\n",
              "    </tr>\n",
              "    <tr>\n",
              "      <th>Date</th>\n",
              "      <th></th>\n",
              "      <th></th>\n",
              "      <th></th>\n",
              "      <th></th>\n",
              "      <th></th>\n",
              "      <th></th>\n",
              "      <th></th>\n",
              "      <th></th>\n",
              "      <th></th>\n",
              "    </tr>\n",
              "  </thead>\n",
              "  <tbody>\n",
              "    <tr>\n",
              "      <th>2018-12-22</th>\n",
              "      <td>22.5300</td>\n",
              "      <td>5.0000</td>\n",
              "      <td>0.0</td>\n",
              "      <td>91.43</td>\n",
              "      <td>58.7200</td>\n",
              "      <td>1.37</td>\n",
              "      <td>2018</td>\n",
              "      <td>12</td>\n",
              "      <td>22</td>\n",
              "    </tr>\n",
              "    <tr>\n",
              "      <th>2018-12-23</th>\n",
              "      <td>22.6800</td>\n",
              "      <td>4.7000</td>\n",
              "      <td>0.0</td>\n",
              "      <td>94.21</td>\n",
              "      <td>62.9100</td>\n",
              "      <td>1.04</td>\n",
              "      <td>2018</td>\n",
              "      <td>12</td>\n",
              "      <td>23</td>\n",
              "    </tr>\n",
              "    <tr>\n",
              "      <th>2018-12-24</th>\n",
              "      <td>21.3500</td>\n",
              "      <td>5.1700</td>\n",
              "      <td>0.0</td>\n",
              "      <td>98.06</td>\n",
              "      <td>58.6600</td>\n",
              "      <td>1.40</td>\n",
              "      <td>2018</td>\n",
              "      <td>12</td>\n",
              "      <td>24</td>\n",
              "    </tr>\n",
              "    <tr>\n",
              "      <th>2018-12-25</th>\n",
              "      <td>19.4600</td>\n",
              "      <td>5.3300</td>\n",
              "      <td>0.0</td>\n",
              "      <td>91.56</td>\n",
              "      <td>54.1300</td>\n",
              "      <td>1.88</td>\n",
              "      <td>2018</td>\n",
              "      <td>12</td>\n",
              "      <td>25</td>\n",
              "    </tr>\n",
              "    <tr>\n",
              "      <th>2018-12-26</th>\n",
              "      <td>19.5675</td>\n",
              "      <td>5.0275</td>\n",
              "      <td>0.0</td>\n",
              "      <td>93.11</td>\n",
              "      <td>55.0525</td>\n",
              "      <td>1.41</td>\n",
              "      <td>2018</td>\n",
              "      <td>12</td>\n",
              "      <td>26</td>\n",
              "    </tr>\n",
              "    <tr>\n",
              "      <th>2018-12-27</th>\n",
              "      <td>19.6750</td>\n",
              "      <td>4.7250</td>\n",
              "      <td>0.0</td>\n",
              "      <td>94.66</td>\n",
              "      <td>55.9750</td>\n",
              "      <td>0.94</td>\n",
              "      <td>2018</td>\n",
              "      <td>12</td>\n",
              "      <td>27</td>\n",
              "    </tr>\n",
              "    <tr>\n",
              "      <th>2018-12-28</th>\n",
              "      <td>19.7825</td>\n",
              "      <td>4.4225</td>\n",
              "      <td>0.0</td>\n",
              "      <td>96.21</td>\n",
              "      <td>56.8975</td>\n",
              "      <td>0.47</td>\n",
              "      <td>2018</td>\n",
              "      <td>12</td>\n",
              "      <td>28</td>\n",
              "    </tr>\n",
              "    <tr>\n",
              "      <th>2018-12-29</th>\n",
              "      <td>19.8900</td>\n",
              "      <td>4.1200</td>\n",
              "      <td>0.0</td>\n",
              "      <td>97.76</td>\n",
              "      <td>57.8200</td>\n",
              "      <td>0.00</td>\n",
              "      <td>2018</td>\n",
              "      <td>12</td>\n",
              "      <td>29</td>\n",
              "    </tr>\n",
              "    <tr>\n",
              "      <th>2018-12-30</th>\n",
              "      <td>21.3400</td>\n",
              "      <td>6.3200</td>\n",
              "      <td>0.0</td>\n",
              "      <td>99.31</td>\n",
              "      <td>58.1400</td>\n",
              "      <td>0.00</td>\n",
              "      <td>2018</td>\n",
              "      <td>12</td>\n",
              "      <td>30</td>\n",
              "    </tr>\n",
              "    <tr>\n",
              "      <th>2018-12-31</th>\n",
              "      <td>21.6800</td>\n",
              "      <td>6.7100</td>\n",
              "      <td>0.0</td>\n",
              "      <td>97.80</td>\n",
              "      <td>66.8000</td>\n",
              "      <td>0.00</td>\n",
              "      <td>2018</td>\n",
              "      <td>12</td>\n",
              "      <td>31</td>\n",
              "    </tr>\n",
              "  </tbody>\n",
              "</table>\n",
              "</div>\n",
              "      <button class=\"colab-df-convert\" onclick=\"convertToInteractive('df-a1ebb945-a356-4f47-9c75-98ed15fc9502')\"\n",
              "              title=\"Convert this dataframe to an interactive table.\"\n",
              "              style=\"display:none;\">\n",
              "        \n",
              "  <svg xmlns=\"http://www.w3.org/2000/svg\" height=\"24px\"viewBox=\"0 0 24 24\"\n",
              "       width=\"24px\">\n",
              "    <path d=\"M0 0h24v24H0V0z\" fill=\"none\"/>\n",
              "    <path d=\"M18.56 5.44l.94 2.06.94-2.06 2.06-.94-2.06-.94-.94-2.06-.94 2.06-2.06.94zm-11 1L8.5 8.5l.94-2.06 2.06-.94-2.06-.94L8.5 2.5l-.94 2.06-2.06.94zm10 10l.94 2.06.94-2.06 2.06-.94-2.06-.94-.94-2.06-.94 2.06-2.06.94z\"/><path d=\"M17.41 7.96l-1.37-1.37c-.4-.4-.92-.59-1.43-.59-.52 0-1.04.2-1.43.59L10.3 9.45l-7.72 7.72c-.78.78-.78 2.05 0 2.83L4 21.41c.39.39.9.59 1.41.59.51 0 1.02-.2 1.41-.59l7.78-7.78 2.81-2.81c.8-.78.8-2.07 0-2.86zM5.41 20L4 18.59l7.72-7.72 1.47 1.35L5.41 20z\"/>\n",
              "  </svg>\n",
              "      </button>\n",
              "      \n",
              "  <style>\n",
              "    .colab-df-container {\n",
              "      display:flex;\n",
              "      flex-wrap:wrap;\n",
              "      gap: 12px;\n",
              "    }\n",
              "\n",
              "    .colab-df-convert {\n",
              "      background-color: #E8F0FE;\n",
              "      border: none;\n",
              "      border-radius: 50%;\n",
              "      cursor: pointer;\n",
              "      display: none;\n",
              "      fill: #1967D2;\n",
              "      height: 32px;\n",
              "      padding: 0 0 0 0;\n",
              "      width: 32px;\n",
              "    }\n",
              "\n",
              "    .colab-df-convert:hover {\n",
              "      background-color: #E2EBFA;\n",
              "      box-shadow: 0px 1px 2px rgba(60, 64, 67, 0.3), 0px 1px 3px 1px rgba(60, 64, 67, 0.15);\n",
              "      fill: #174EA6;\n",
              "    }\n",
              "\n",
              "    [theme=dark] .colab-df-convert {\n",
              "      background-color: #3B4455;\n",
              "      fill: #D2E3FC;\n",
              "    }\n",
              "\n",
              "    [theme=dark] .colab-df-convert:hover {\n",
              "      background-color: #434B5C;\n",
              "      box-shadow: 0px 1px 3px 1px rgba(0, 0, 0, 0.15);\n",
              "      filter: drop-shadow(0px 1px 2px rgba(0, 0, 0, 0.3));\n",
              "      fill: #FFFFFF;\n",
              "    }\n",
              "  </style>\n",
              "\n",
              "      <script>\n",
              "        const buttonEl =\n",
              "          document.querySelector('#df-a1ebb945-a356-4f47-9c75-98ed15fc9502 button.colab-df-convert');\n",
              "        buttonEl.style.display =\n",
              "          google.colab.kernel.accessAllowed ? 'block' : 'none';\n",
              "\n",
              "        async function convertToInteractive(key) {\n",
              "          const element = document.querySelector('#df-a1ebb945-a356-4f47-9c75-98ed15fc9502');\n",
              "          const dataTable =\n",
              "            await google.colab.kernel.invokeFunction('convertToInteractive',\n",
              "                                                     [key], {});\n",
              "          if (!dataTable) return;\n",
              "\n",
              "          const docLinkHtml = 'Like what you see? Visit the ' +\n",
              "            '<a target=\"_blank\" href=https://colab.research.google.com/notebooks/data_table.ipynb>data table notebook</a>'\n",
              "            + ' to learn more about interactive tables.';\n",
              "          element.innerHTML = '';\n",
              "          dataTable['output_type'] = 'display_data';\n",
              "          await google.colab.output.renderOutput(dataTable, element);\n",
              "          const docLink = document.createElement('div');\n",
              "          docLink.innerHTML = docLinkHtml;\n",
              "          element.appendChild(docLink);\n",
              "        }\n",
              "      </script>\n",
              "    </div>\n",
              "  </div>\n",
              "  "
            ],
            "text/plain": [
              "            MaxTemp (°C)  MinTemp (°C)  Rainfall (mm)  ...  Year  Month  Day\n",
              "Date                                                   ...                  \n",
              "2018-12-22       22.5300        5.0000            0.0  ...  2018     12   22\n",
              "2018-12-23       22.6800        4.7000            0.0  ...  2018     12   23\n",
              "2018-12-24       21.3500        5.1700            0.0  ...  2018     12   24\n",
              "2018-12-25       19.4600        5.3300            0.0  ...  2018     12   25\n",
              "2018-12-26       19.5675        5.0275            0.0  ...  2018     12   26\n",
              "2018-12-27       19.6750        4.7250            0.0  ...  2018     12   27\n",
              "2018-12-28       19.7825        4.4225            0.0  ...  2018     12   28\n",
              "2018-12-29       19.8900        4.1200            0.0  ...  2018     12   29\n",
              "2018-12-30       21.3400        6.3200            0.0  ...  2018     12   30\n",
              "2018-12-31       21.6800        6.7100            0.0  ...  2018     12   31\n",
              "\n",
              "[10 rows x 9 columns]"
            ]
          },
          "metadata": {},
          "execution_count": 25
        }
      ]
    },
    {
      "cell_type": "code",
      "source": [
        "import matplotlib.pyplot as plt\n",
        "import seaborn as sns\n",
        "\n",
        "columns_plot = ['MaxTemp (°C)',\n",
        " 'MinTemp (°C)',\n",
        " 'Rainfall (mm)',\n",
        " 'Humidity at 8:30 AM (%)',\n",
        " 'Humidity at 5:30 PM (%)',\n",
        " 'WindSpeed (m/s)']\n",
        "Daily = dataf2[columns_plot].plot(marker='o', alpha=0.8, linestyle='None', figsize=(20, 12), subplots=True)\n",
        "Daily[0].set_title('DAILY TIMESERIES PLOTS')\n",
        "\n",
        "from google.colab import files\n",
        "plt.savefig(\"Daily_timeseries.png\")\n"
      ],
      "metadata": {
        "colab": {
          "base_uri": "https://localhost:8080/",
          "height": 684
        },
        "id": "yGs9qbbVtDf4",
        "outputId": "723957fd-d0d9-41db-e91b-211d0a13ae3e"
      },
      "execution_count": null,
      "outputs": [
        {
          "output_type": "display_data",
          "data": {
            "image/png": "[encoded data removed]",
            "text/plain": [
              "<Figure size 1440x864 with 6 Axes>"
            ]
          },
          "metadata": {
            "needs_background": "light"
          }
        }
      ]
    },
    {
      "cell_type": "code",
      "source": [
        "#monthly\n",
        "data1=data.groupby(['Year','Month'])['MaxTemp (°C)',\n",
        " 'MinTemp (°C)',\n",
        " 'Rainfall (mm)',\n",
        " 'Humidity at 8:30 AM (%)',\n",
        " 'Humidity at 5:30 PM (%)',\n",
        " 'WindSpeed (m/s)'].mean()"
      ],
      "metadata": {
        "colab": {
          "base_uri": "https://localhost:8080/"
        },
        "id": "9eSnvxiltqXB",
        "outputId": "0bf3f26a-bb86-48d6-a284-178fe419aa0b"
      },
      "execution_count": null,
      "outputs": [
        {
          "output_type": "stream",
          "name": "stderr",
          "text": [
            "/usr/local/lib/python3.7/dist-packages/ipykernel_launcher.py:2: FutureWarning: Indexing with multiple keys (implicitly converted to a tuple of keys) will be deprecated, use a list instead.\n",
            "  \n"
          ]
        }
      ]
    },
    {
      "cell_type": "code",
      "source": [
        "Monthly = data1[columns_plot].plot(marker='o', alpha=0.8, linestyle='-', figsize=(20, 12), subplots=True)\n",
        "Monthly[1].set(title ='MONTHLY TIMESERIES PLOTS')\n",
        "\n",
        "from google.colab import files\n",
        "plt.savefig(\"Monthly_timeseries.png\")\n"
      ],
      "metadata": {
        "colab": {
          "base_uri": "https://localhost:8080/",
          "height": 674
        },
        "id": "RMWTCEkkvqV4",
        "outputId": "db6960ed-13c2-42e0-cb2e-a00f9ced2f4f"
      },
      "execution_count": null,
      "outputs": [
        {
          "output_type": "display_data",
          "data": {
            "image/png": "[encoded data removed]",
            "text/plain": [
              "<Figure size 1440x864 with 6 Axes>"
            ]
          },
          "metadata": {
            "needs_background": "light"
          }
        }
      ]
    },
    {
      "cell_type": "code",
      "source": [
        "#daily timestep\n",
        "dataf2.groupby('Year').agg([\"min\", \"max\", \"median\", \"skew\",\"std\"])"
      ],
      "metadata": {
        "colab": {
          "base_uri": "https://localhost:8080/",
          "height": 239
        },
        "id": "CnrDSvwj0Zzd",
        "outputId": "823a7426-9637-4e22-ca24-ceb618c83fdb"
      },
      "execution_count": null,
      "outputs": [
        {
          "output_type": "execute_result",
          "data": {
            "text/html": [
              "\n",
              "  <div id=\"df-582a6f77-af55-49cf-9fbe-796b920e650d\">\n",
              "    <div class=\"colab-df-container\">\n",
              "      <div>\n",
              "<style scoped>\n",
              "    .dataframe tbody tr th:only-of-type {\n",
              "        vertical-align: middle;\n",
              "    }\n",
              "\n",
              "    .dataframe tbody tr th {\n",
              "        vertical-align: top;\n",
              "    }\n",
              "\n",
              "    .dataframe thead tr th {\n",
              "        text-align: left;\n",
              "    }\n",
              "\n",
              "    .dataframe thead tr:last-of-type th {\n",
              "        text-align: right;\n",
              "    }\n",
              "</style>\n",
              "<table border=\"1\" class=\"dataframe\">\n",
              "  <thead>\n",
              "    <tr>\n",
              "      <th></th>\n",
              "      <th colspan=\"5\" halign=\"left\">MaxTemp (°C)</th>\n",
              "      <th colspan=\"5\" halign=\"left\">MinTemp (°C)</th>\n",
              "      <th colspan=\"5\" halign=\"left\">Rainfall (mm)</th>\n",
              "      <th colspan=\"5\" halign=\"left\">Humidity at 8:30 AM (%)</th>\n",
              "      <th colspan=\"5\" halign=\"left\">Humidity at 5:30 PM (%)</th>\n",
              "      <th colspan=\"5\" halign=\"left\">WindSpeed (m/s)</th>\n",
              "      <th colspan=\"5\" halign=\"left\">Month</th>\n",
              "      <th colspan=\"5\" halign=\"left\">Day</th>\n",
              "    </tr>\n",
              "    <tr>\n",
              "      <th></th>\n",
              "      <th>min</th>\n",
              "      <th>max</th>\n",
              "      <th>median</th>\n",
              "      <th>skew</th>\n",
              "      <th>std</th>\n",
              "      <th>min</th>\n",
              "      <th>max</th>\n",
              "      <th>median</th>\n",
              "      <th>skew</th>\n",
              "      <th>std</th>\n",
              "      <th>min</th>\n",
              "      <th>max</th>\n",
              "      <th>median</th>\n",
              "      <th>skew</th>\n",
              "      <th>std</th>\n",
              "      <th>min</th>\n",
              "      <th>max</th>\n",
              "      <th>median</th>\n",
              "      <th>skew</th>\n",
              "      <th>std</th>\n",
              "      <th>min</th>\n",
              "      <th>max</th>\n",
              "      <th>median</th>\n",
              "      <th>skew</th>\n",
              "      <th>std</th>\n",
              "      <th>min</th>\n",
              "      <th>max</th>\n",
              "      <th>median</th>\n",
              "      <th>skew</th>\n",
              "      <th>std</th>\n",
              "      <th>min</th>\n",
              "      <th>max</th>\n",
              "      <th>median</th>\n",
              "      <th>skew</th>\n",
              "      <th>std</th>\n",
              "      <th>min</th>\n",
              "      <th>max</th>\n",
              "      <th>median</th>\n",
              "      <th>skew</th>\n",
              "      <th>std</th>\n",
              "    </tr>\n",
              "    <tr>\n",
              "      <th>Year</th>\n",
              "      <th></th>\n",
              "      <th></th>\n",
              "      <th></th>\n",
              "      <th></th>\n",
              "      <th></th>\n",
              "      <th></th>\n",
              "      <th></th>\n",
              "      <th></th>\n",
              "      <th></th>\n",
              "      <th></th>\n",
              "      <th></th>\n",
              "      <th></th>\n",
              "      <th></th>\n",
              "      <th></th>\n",
              "      <th></th>\n",
              "      <th></th>\n",
              "      <th></th>\n",
              "      <th></th>\n",
              "      <th></th>\n",
              "      <th></th>\n",
              "      <th></th>\n",
              "      <th></th>\n",
              "      <th></th>\n",
              "      <th></th>\n",
              "      <th></th>\n",
              "      <th></th>\n",
              "      <th></th>\n",
              "      <th></th>\n",
              "      <th></th>\n",
              "      <th></th>\n",
              "      <th></th>\n",
              "      <th></th>\n",
              "      <th></th>\n",
              "      <th></th>\n",
              "      <th></th>\n",
              "      <th></th>\n",
              "      <th></th>\n",
              "      <th></th>\n",
              "      <th></th>\n",
              "      <th></th>\n",
              "    </tr>\n",
              "  </thead>\n",
              "  <tbody>\n",
              "    <tr>\n",
              "      <th>2018</th>\n",
              "      <td>13.70</td>\n",
              "      <td>46.03</td>\n",
              "      <td>33.540</td>\n",
              "      <td>-0.466362</td>\n",
              "      <td>6.576327</td>\n",
              "      <td>4.12</td>\n",
              "      <td>32.34</td>\n",
              "      <td>20.81</td>\n",
              "      <td>-0.355048</td>\n",
              "      <td>7.578714</td>\n",
              "      <td>0.0</td>\n",
              "      <td>61.0</td>\n",
              "      <td>0.0</td>\n",
              "      <td>7.666658</td>\n",
              "      <td>5.464439</td>\n",
              "      <td>31.40</td>\n",
              "      <td>100.0</td>\n",
              "      <td>89.17</td>\n",
              "      <td>-0.920222</td>\n",
              "      <td>16.952197</td>\n",
              "      <td>16.72</td>\n",
              "      <td>100.0</td>\n",
              "      <td>61.920</td>\n",
              "      <td>-0.099347</td>\n",
              "      <td>20.049883</td>\n",
              "      <td>0.0</td>\n",
              "      <td>3.69</td>\n",
              "      <td>1.49</td>\n",
              "      <td>0.329301</td>\n",
              "      <td>0.631589</td>\n",
              "      <td>1</td>\n",
              "      <td>12</td>\n",
              "      <td>7</td>\n",
              "      <td>-0.0105</td>\n",
              "      <td>3.452584</td>\n",
              "      <td>1</td>\n",
              "      <td>31</td>\n",
              "      <td>16.0</td>\n",
              "      <td>0.007552</td>\n",
              "      <td>8.808321</td>\n",
              "    </tr>\n",
              "    <tr>\n",
              "      <th>2019</th>\n",
              "      <td>20.05</td>\n",
              "      <td>23.43</td>\n",
              "      <td>21.345</td>\n",
              "      <td>0.431076</td>\n",
              "      <td>0.974752</td>\n",
              "      <td>5.40</td>\n",
              "      <td>11.09</td>\n",
              "      <td>7.55</td>\n",
              "      <td>0.277071</td>\n",
              "      <td>1.685176</td>\n",
              "      <td>0.0</td>\n",
              "      <td>0.0</td>\n",
              "      <td>0.0</td>\n",
              "      <td>0.000000</td>\n",
              "      <td>0.000000</td>\n",
              "      <td>77.55</td>\n",
              "      <td>100.0</td>\n",
              "      <td>98.99</td>\n",
              "      <td>-1.496623</td>\n",
              "      <td>7.009903</td>\n",
              "      <td>48.82</td>\n",
              "      <td>75.2</td>\n",
              "      <td>58.565</td>\n",
              "      <td>0.851973</td>\n",
              "      <td>6.699241</td>\n",
              "      <td>0.0</td>\n",
              "      <td>2.83</td>\n",
              "      <td>1.53</td>\n",
              "      <td>-0.231294</td>\n",
              "      <td>0.912138</td>\n",
              "      <td>1</td>\n",
              "      <td>1</td>\n",
              "      <td>1</td>\n",
              "      <td>0.0000</td>\n",
              "      <td>0.000000</td>\n",
              "      <td>1</td>\n",
              "      <td>22</td>\n",
              "      <td>11.5</td>\n",
              "      <td>0.000000</td>\n",
              "      <td>6.493587</td>\n",
              "    </tr>\n",
              "  </tbody>\n",
              "</table>\n",
              "</div>\n",
              "      <button class=\"colab-df-convert\" onclick=\"convertToInteractive('df-582a6f77-af55-49cf-9fbe-796b920e650d')\"\n",
              "              title=\"Convert this dataframe to an interactive table.\"\n",
              "              style=\"display:none;\">\n",
              "        \n",
              "  <svg xmlns=\"http://www.w3.org/2000/svg\" height=\"24px\"viewBox=\"0 0 24 24\"\n",
              "       width=\"24px\">\n",
              "    <path d=\"M0 0h24v24H0V0z\" fill=\"none\"/>\n",
              "    <path d=\"M18.56 5.44l.94 2.06.94-2.06 2.06-.94-2.06-.94-.94-2.06-.94 2.06-2.06.94zm-11 1L8.5 8.5l.94-2.06 2.06-.94-2.06-.94L8.5 2.5l-.94 2.06-2.06.94zm10 10l.94 2.06.94-2.06 2.06-.94-2.06-.94-.94-2.06-.94 2.06-2.06.94z\"/><path d=\"M17.41 7.96l-1.37-1.37c-.4-.4-.92-.59-1.43-.59-.52 0-1.04.2-1.43.59L10.3 9.45l-7.72 7.72c-.78.78-.78 2.05 0 2.83L4 21.41c.39.39.9.59 1.41.59.51 0 1.02-.2 1.41-.59l7.78-7.78 2.81-2.81c.8-.78.8-2.07 0-2.86zM5.41 20L4 18.59l7.72-7.72 1.47 1.35L5.41 20z\"/>\n",
              "  </svg>\n",
              "      </button>\n",
              "      \n",
              "  <style>\n",
              "    .colab-df-container {\n",
              "      display:flex;\n",
              "      flex-wrap:wrap;\n",
              "      gap: 12px;\n",
              "    }\n",
              "\n",
              "    .colab-df-convert {\n",
              "      background-color: #E8F0FE;\n",
              "      border: none;\n",
              "      border-radius: 50%;\n",
              "      cursor: pointer;\n",
              "      display: none;\n",
              "      fill: #1967D2;\n",
              "      height: 32px;\n",
              "      padding: 0 0 0 0;\n",
              "      width: 32px;\n",
              "    }\n",
              "\n",
              "    .colab-df-convert:hover {\n",
              "      background-color: #E2EBFA;\n",
              "      box-shadow: 0px 1px 2px rgba(60, 64, 67, 0.3), 0px 1px 3px 1px rgba(60, 64, 67, 0.15);\n",
              "      fill: #174EA6;\n",
              "    }\n",
              "\n",
              "    [theme=dark] .colab-df-convert {\n",
              "      background-color: #3B4455;\n",
              "      fill: #D2E3FC;\n",
              "    }\n",
              "\n",
              "    [theme=dark] .colab-df-convert:hover {\n",
              "      background-color: #434B5C;\n",
              "      box-shadow: 0px 1px 3px 1px rgba(0, 0, 0, 0.15);\n",
              "      filter: drop-shadow(0px 1px 2px rgba(0, 0, 0, 0.3));\n",
              "      fill: #FFFFFF;\n",
              "    }\n",
              "  </style>\n",
              "\n",
              "      <script>\n",
              "        const buttonEl =\n",
              "          document.querySelector('#df-582a6f77-af55-49cf-9fbe-796b920e650d button.colab-df-convert');\n",
              "        buttonEl.style.display =\n",
              "          google.colab.kernel.accessAllowed ? 'block' : 'none';\n",
              "\n",
              "        async function convertToInteractive(key) {\n",
              "          const element = document.querySelector('#df-582a6f77-af55-49cf-9fbe-796b920e650d');\n",
              "          const dataTable =\n",
              "            await google.colab.kernel.invokeFunction('convertToInteractive',\n",
              "                                                     [key], {});\n",
              "          if (!dataTable) return;\n",
              "\n",
              "          const docLinkHtml = 'Like what you see? Visit the ' +\n",
              "            '<a target=\"_blank\" href=https://colab.research.google.com/notebooks/data_table.ipynb>data table notebook</a>'\n",
              "            + ' to learn more about interactive tables.';\n",
              "          element.innerHTML = '';\n",
              "          dataTable['output_type'] = 'display_data';\n",
              "          await google.colab.output.renderOutput(dataTable, element);\n",
              "          const docLink = document.createElement('div');\n",
              "          docLink.innerHTML = docLinkHtml;\n",
              "          element.appendChild(docLink);\n",
              "        }\n",
              "      </script>\n",
              "    </div>\n",
              "  </div>\n",
              "  "
            ],
            "text/plain": [
              "     MaxTemp (°C)                           ... Day                           \n",
              "              min    max  median      skew  ... max median      skew       std\n",
              "Year                                        ...                               \n",
              "2018        13.70  46.03  33.540 -0.466362  ...  31   16.0  0.007552  8.808321\n",
              "2019        20.05  23.43  21.345  0.431076  ...  22   11.5  0.000000  6.493587\n",
              "\n",
              "[2 rows x 40 columns]"
            ]
          },
          "metadata": {},
          "execution_count": 30
        }
      ]
    },
    {
      "cell_type": "code",
      "source": [
        "dataf2.kurtosis() #kurtosis is not shown in groupby"
      ],
      "metadata": {
        "colab": {
          "base_uri": "https://localhost:8080/"
        },
        "id": "c8Gb68F10iIJ",
        "outputId": "39997f50-2213-418a-f037-b80756c2314b"
      },
      "execution_count": null,
      "outputs": [
        {
          "output_type": "execute_result",
          "data": {
            "text/plain": [
              "MaxTemp (°C)               -0.776700\n",
              "MinTemp (°C)               -1.317319\n",
              "Rainfall (mm)              73.921377\n",
              "Humidity at 8:30 AM (%)     0.010547\n",
              "Humidity at 5:30 PM (%)    -0.475960\n",
              "WindSpeed (m/s)             0.228141\n",
              "Year                       12.831834\n",
              "Month                      -1.262113\n",
              "Day                        -1.169914\n",
              "dtype: float64"
            ]
          },
          "metadata": {},
          "execution_count": 31
        }
      ]
    },
    {
      "cell_type": "code",
      "source": [
        "#monthly timestep\n",
        "dataf2.loc['2018'].groupby('Month').agg([\"min\", \"max\", \"median\", \"skew\",\"std\"])"
      ],
      "metadata": {
        "colab": {
          "base_uri": "https://localhost:8080/",
          "height": 552
        },
        "id": "BH5i_BVO0iLy",
        "outputId": "5418d519-bacf-40b6-c814-e38d57572770"
      },
      "execution_count": null,
      "outputs": [
        {
          "output_type": "execute_result",
          "data": {
            "text/html": [
              "\n",
              "  <div id=\"df-d8b68d7e-13b1-4b12-8e41-4e61427728ed\">\n",
              "    <div class=\"colab-df-container\">\n",
              "      <div>\n",
              "<style scoped>\n",
              "    .dataframe tbody tr th:only-of-type {\n",
              "        vertical-align: middle;\n",
              "    }\n",
              "\n",
              "    .dataframe tbody tr th {\n",
              "        vertical-align: top;\n",
              "    }\n",
              "\n",
              "    .dataframe thead tr th {\n",
              "        text-align: left;\n",
              "    }\n",
              "\n",
              "    .dataframe thead tr:last-of-type th {\n",
              "        text-align: right;\n",
              "    }\n",
              "</style>\n",
              "<table border=\"1\" class=\"dataframe\">\n",
              "  <thead>\n",
              "    <tr>\n",
              "      <th></th>\n",
              "      <th colspan=\"5\" halign=\"left\">MaxTemp (°C)</th>\n",
              "      <th colspan=\"5\" halign=\"left\">MinTemp (°C)</th>\n",
              "      <th colspan=\"5\" halign=\"left\">Rainfall (mm)</th>\n",
              "      <th colspan=\"5\" halign=\"left\">Humidity at 8:30 AM (%)</th>\n",
              "      <th colspan=\"5\" halign=\"left\">Humidity at 5:30 PM (%)</th>\n",
              "      <th colspan=\"5\" halign=\"left\">WindSpeed (m/s)</th>\n",
              "      <th colspan=\"5\" halign=\"left\">Year</th>\n",
              "      <th colspan=\"5\" halign=\"left\">Day</th>\n",
              "    </tr>\n",
              "    <tr>\n",
              "      <th></th>\n",
              "      <th>min</th>\n",
              "      <th>max</th>\n",
              "      <th>median</th>\n",
              "      <th>skew</th>\n",
              "      <th>std</th>\n",
              "      <th>min</th>\n",
              "      <th>max</th>\n",
              "      <th>median</th>\n",
              "      <th>skew</th>\n",
              "      <th>std</th>\n",
              "      <th>min</th>\n",
              "      <th>max</th>\n",
              "      <th>median</th>\n",
              "      <th>skew</th>\n",
              "      <th>std</th>\n",
              "      <th>min</th>\n",
              "      <th>max</th>\n",
              "      <th>median</th>\n",
              "      <th>skew</th>\n",
              "      <th>std</th>\n",
              "      <th>min</th>\n",
              "      <th>max</th>\n",
              "      <th>median</th>\n",
              "      <th>skew</th>\n",
              "      <th>std</th>\n",
              "      <th>min</th>\n",
              "      <th>max</th>\n",
              "      <th>median</th>\n",
              "      <th>skew</th>\n",
              "      <th>std</th>\n",
              "      <th>min</th>\n",
              "      <th>max</th>\n",
              "      <th>median</th>\n",
              "      <th>skew</th>\n",
              "      <th>std</th>\n",
              "      <th>min</th>\n",
              "      <th>max</th>\n",
              "      <th>median</th>\n",
              "      <th>skew</th>\n",
              "      <th>std</th>\n",
              "    </tr>\n",
              "    <tr>\n",
              "      <th>Month</th>\n",
              "      <th></th>\n",
              "      <th></th>\n",
              "      <th></th>\n",
              "      <th></th>\n",
              "      <th></th>\n",
              "      <th></th>\n",
              "      <th></th>\n",
              "      <th></th>\n",
              "      <th></th>\n",
              "      <th></th>\n",
              "      <th></th>\n",
              "      <th></th>\n",
              "      <th></th>\n",
              "      <th></th>\n",
              "      <th></th>\n",
              "      <th></th>\n",
              "      <th></th>\n",
              "      <th></th>\n",
              "      <th></th>\n",
              "      <th></th>\n",
              "      <th></th>\n",
              "      <th></th>\n",
              "      <th></th>\n",
              "      <th></th>\n",
              "      <th></th>\n",
              "      <th></th>\n",
              "      <th></th>\n",
              "      <th></th>\n",
              "      <th></th>\n",
              "      <th></th>\n",
              "      <th></th>\n",
              "      <th></th>\n",
              "      <th></th>\n",
              "      <th></th>\n",
              "      <th></th>\n",
              "      <th></th>\n",
              "      <th></th>\n",
              "      <th></th>\n",
              "      <th></th>\n",
              "      <th></th>\n",
              "    </tr>\n",
              "  </thead>\n",
              "  <tbody>\n",
              "    <tr>\n",
              "      <th>1</th>\n",
              "      <td>13.70</td>\n",
              "      <td>26.20</td>\n",
              "      <td>21.480</td>\n",
              "      <td>-0.505655</td>\n",
              "      <td>3.326136</td>\n",
              "      <td>4.35</td>\n",
              "      <td>11.76</td>\n",
              "      <td>7.09</td>\n",
              "      <td>0.545975</td>\n",
              "      <td>1.911041</td>\n",
              "      <td>0.0</td>\n",
              "      <td>2.00</td>\n",
              "      <td>0.0</td>\n",
              "      <td>5.567764</td>\n",
              "      <td>0.359211</td>\n",
              "      <td>83.90</td>\n",
              "      <td>99.94</td>\n",
              "      <td>99.440</td>\n",
              "      <td>-2.864535</td>\n",
              "      <td>3.552160</td>\n",
              "      <td>50.84</td>\n",
              "      <td>95.41</td>\n",
              "      <td>67.590</td>\n",
              "      <td>0.235390</td>\n",
              "      <td>13.235191</td>\n",
              "      <td>0.37</td>\n",
              "      <td>2.82</td>\n",
              "      <td>0.780</td>\n",
              "      <td>2.041671</td>\n",
              "      <td>0.485616</td>\n",
              "      <td>2018</td>\n",
              "      <td>2018</td>\n",
              "      <td>2018</td>\n",
              "      <td>0</td>\n",
              "      <td>0.0</td>\n",
              "      <td>1</td>\n",
              "      <td>31</td>\n",
              "      <td>16.0</td>\n",
              "      <td>0.0</td>\n",
              "      <td>9.092121</td>\n",
              "    </tr>\n",
              "    <tr>\n",
              "      <th>2</th>\n",
              "      <td>20.36</td>\n",
              "      <td>33.78</td>\n",
              "      <td>26.600</td>\n",
              "      <td>0.333153</td>\n",
              "      <td>3.657726</td>\n",
              "      <td>8.04</td>\n",
              "      <td>18.52</td>\n",
              "      <td>11.95</td>\n",
              "      <td>0.398322</td>\n",
              "      <td>2.736879</td>\n",
              "      <td>0.0</td>\n",
              "      <td>1.25</td>\n",
              "      <td>0.0</td>\n",
              "      <td>5.291503</td>\n",
              "      <td>0.236228</td>\n",
              "      <td>78.29</td>\n",
              "      <td>100.00</td>\n",
              "      <td>92.765</td>\n",
              "      <td>-0.294201</td>\n",
              "      <td>7.089746</td>\n",
              "      <td>35.36</td>\n",
              "      <td>76.98</td>\n",
              "      <td>56.830</td>\n",
              "      <td>0.316438</td>\n",
              "      <td>9.363957</td>\n",
              "      <td>0.38</td>\n",
              "      <td>3.25</td>\n",
              "      <td>1.180</td>\n",
              "      <td>1.213778</td>\n",
              "      <td>0.629476</td>\n",
              "      <td>2018</td>\n",
              "      <td>2018</td>\n",
              "      <td>2018</td>\n",
              "      <td>0</td>\n",
              "      <td>0.0</td>\n",
              "      <td>1</td>\n",
              "      <td>28</td>\n",
              "      <td>14.5</td>\n",
              "      <td>0.0</td>\n",
              "      <td>8.225975</td>\n",
              "    </tr>\n",
              "    <tr>\n",
              "      <th>3</th>\n",
              "      <td>29.57</td>\n",
              "      <td>39.29</td>\n",
              "      <td>34.130</td>\n",
              "      <td>0.259136</td>\n",
              "      <td>2.474597</td>\n",
              "      <td>12.70</td>\n",
              "      <td>20.84</td>\n",
              "      <td>16.67</td>\n",
              "      <td>-0.129067</td>\n",
              "      <td>1.955226</td>\n",
              "      <td>0.0</td>\n",
              "      <td>0.00</td>\n",
              "      <td>0.0</td>\n",
              "      <td>0.000000</td>\n",
              "      <td>0.000000</td>\n",
              "      <td>44.55</td>\n",
              "      <td>90.54</td>\n",
              "      <td>70.050</td>\n",
              "      <td>-0.185990</td>\n",
              "      <td>11.718798</td>\n",
              "      <td>19.11</td>\n",
              "      <td>56.69</td>\n",
              "      <td>36.370</td>\n",
              "      <td>0.280676</td>\n",
              "      <td>9.483616</td>\n",
              "      <td>0.25</td>\n",
              "      <td>2.45</td>\n",
              "      <td>1.270</td>\n",
              "      <td>0.105984</td>\n",
              "      <td>0.686964</td>\n",
              "      <td>2018</td>\n",
              "      <td>2018</td>\n",
              "      <td>2018</td>\n",
              "      <td>0</td>\n",
              "      <td>0.0</td>\n",
              "      <td>1</td>\n",
              "      <td>31</td>\n",
              "      <td>16.0</td>\n",
              "      <td>0.0</td>\n",
              "      <td>9.092121</td>\n",
              "    </tr>\n",
              "    <tr>\n",
              "      <th>4</th>\n",
              "      <td>34.25</td>\n",
              "      <td>42.78</td>\n",
              "      <td>38.420</td>\n",
              "      <td>-0.057645</td>\n",
              "      <td>2.047693</td>\n",
              "      <td>18.63</td>\n",
              "      <td>25.95</td>\n",
              "      <td>21.32</td>\n",
              "      <td>0.538334</td>\n",
              "      <td>2.012883</td>\n",
              "      <td>0.0</td>\n",
              "      <td>16.25</td>\n",
              "      <td>0.0</td>\n",
              "      <td>4.271066</td>\n",
              "      <td>3.202022</td>\n",
              "      <td>31.40</td>\n",
              "      <td>86.76</td>\n",
              "      <td>57.705</td>\n",
              "      <td>-0.066305</td>\n",
              "      <td>14.974811</td>\n",
              "      <td>16.72</td>\n",
              "      <td>67.19</td>\n",
              "      <td>34.700</td>\n",
              "      <td>0.569629</td>\n",
              "      <td>11.814269</td>\n",
              "      <td>1.15</td>\n",
              "      <td>2.97</td>\n",
              "      <td>1.945</td>\n",
              "      <td>0.579978</td>\n",
              "      <td>0.504085</td>\n",
              "      <td>2018</td>\n",
              "      <td>2018</td>\n",
              "      <td>2018</td>\n",
              "      <td>0</td>\n",
              "      <td>0.0</td>\n",
              "      <td>1</td>\n",
              "      <td>30</td>\n",
              "      <td>15.5</td>\n",
              "      <td>0.0</td>\n",
              "      <td>8.803408</td>\n",
              "    </tr>\n",
              "    <tr>\n",
              "      <th>5</th>\n",
              "      <td>33.93</td>\n",
              "      <td>46.03</td>\n",
              "      <td>40.620</td>\n",
              "      <td>-0.165019</td>\n",
              "      <td>2.613134</td>\n",
              "      <td>20.30</td>\n",
              "      <td>28.84</td>\n",
              "      <td>25.04</td>\n",
              "      <td>-0.257706</td>\n",
              "      <td>2.021775</td>\n",
              "      <td>0.0</td>\n",
              "      <td>7.75</td>\n",
              "      <td>0.0</td>\n",
              "      <td>4.003504</td>\n",
              "      <td>1.629409</td>\n",
              "      <td>42.13</td>\n",
              "      <td>76.10</td>\n",
              "      <td>63.450</td>\n",
              "      <td>-0.576311</td>\n",
              "      <td>9.171600</td>\n",
              "      <td>17.13</td>\n",
              "      <td>55.19</td>\n",
              "      <td>33.980</td>\n",
              "      <td>0.043733</td>\n",
              "      <td>11.003105</td>\n",
              "      <td>0.62</td>\n",
              "      <td>3.69</td>\n",
              "      <td>1.380</td>\n",
              "      <td>1.569678</td>\n",
              "      <td>0.636514</td>\n",
              "      <td>2018</td>\n",
              "      <td>2018</td>\n",
              "      <td>2018</td>\n",
              "      <td>0</td>\n",
              "      <td>0.0</td>\n",
              "      <td>1</td>\n",
              "      <td>31</td>\n",
              "      <td>16.0</td>\n",
              "      <td>0.0</td>\n",
              "      <td>9.092121</td>\n",
              "    </tr>\n",
              "    <tr>\n",
              "      <th>6</th>\n",
              "      <td>35.12</td>\n",
              "      <td>44.68</td>\n",
              "      <td>40.955</td>\n",
              "      <td>-0.478654</td>\n",
              "      <td>2.523514</td>\n",
              "      <td>22.03</td>\n",
              "      <td>32.34</td>\n",
              "      <td>28.43</td>\n",
              "      <td>-1.041771</td>\n",
              "      <td>1.858427</td>\n",
              "      <td>0.0</td>\n",
              "      <td>19.50</td>\n",
              "      <td>0.0</td>\n",
              "      <td>3.604080</td>\n",
              "      <td>4.157815</td>\n",
              "      <td>46.22</td>\n",
              "      <td>95.99</td>\n",
              "      <td>65.795</td>\n",
              "      <td>0.415047</td>\n",
              "      <td>12.514883</td>\n",
              "      <td>27.33</td>\n",
              "      <td>92.50</td>\n",
              "      <td>49.480</td>\n",
              "      <td>0.772714</td>\n",
              "      <td>14.564840</td>\n",
              "      <td>0.99</td>\n",
              "      <td>2.54</td>\n",
              "      <td>1.635</td>\n",
              "      <td>0.297169</td>\n",
              "      <td>0.367796</td>\n",
              "      <td>2018</td>\n",
              "      <td>2018</td>\n",
              "      <td>2018</td>\n",
              "      <td>0</td>\n",
              "      <td>0.0</td>\n",
              "      <td>1</td>\n",
              "      <td>30</td>\n",
              "      <td>15.5</td>\n",
              "      <td>0.0</td>\n",
              "      <td>8.803408</td>\n",
              "    </tr>\n",
              "    <tr>\n",
              "      <th>7</th>\n",
              "      <td>28.41</td>\n",
              "      <td>40.74</td>\n",
              "      <td>35.810</td>\n",
              "      <td>-0.174986</td>\n",
              "      <td>3.568172</td>\n",
              "      <td>23.99</td>\n",
              "      <td>30.41</td>\n",
              "      <td>27.40</td>\n",
              "      <td>-0.193801</td>\n",
              "      <td>1.491694</td>\n",
              "      <td>0.0</td>\n",
              "      <td>32.50</td>\n",
              "      <td>0.0</td>\n",
              "      <td>3.103718</td>\n",
              "      <td>7.787776</td>\n",
              "      <td>71.11</td>\n",
              "      <td>100.00</td>\n",
              "      <td>86.800</td>\n",
              "      <td>-0.153052</td>\n",
              "      <td>9.692183</td>\n",
              "      <td>47.58</td>\n",
              "      <td>99.84</td>\n",
              "      <td>70.440</td>\n",
              "      <td>0.103039</td>\n",
              "      <td>16.314060</td>\n",
              "      <td>0.99</td>\n",
              "      <td>3.17</td>\n",
              "      <td>1.890</td>\n",
              "      <td>0.456579</td>\n",
              "      <td>0.518961</td>\n",
              "      <td>2018</td>\n",
              "      <td>2018</td>\n",
              "      <td>2018</td>\n",
              "      <td>0</td>\n",
              "      <td>0.0</td>\n",
              "      <td>1</td>\n",
              "      <td>31</td>\n",
              "      <td>16.0</td>\n",
              "      <td>0.0</td>\n",
              "      <td>9.092121</td>\n",
              "    </tr>\n",
              "    <tr>\n",
              "      <th>8</th>\n",
              "      <td>27.42</td>\n",
              "      <td>38.10</td>\n",
              "      <td>34.150</td>\n",
              "      <td>-0.616362</td>\n",
              "      <td>2.469236</td>\n",
              "      <td>24.71</td>\n",
              "      <td>28.53</td>\n",
              "      <td>26.65</td>\n",
              "      <td>-0.249595</td>\n",
              "      <td>0.877022</td>\n",
              "      <td>0.0</td>\n",
              "      <td>61.00</td>\n",
              "      <td>0.0</td>\n",
              "      <td>3.858903</td>\n",
              "      <td>11.847661</td>\n",
              "      <td>90.30</td>\n",
              "      <td>100.00</td>\n",
              "      <td>97.320</td>\n",
              "      <td>-0.531120</td>\n",
              "      <td>3.124523</td>\n",
              "      <td>68.78</td>\n",
              "      <td>100.00</td>\n",
              "      <td>84.680</td>\n",
              "      <td>-0.032792</td>\n",
              "      <td>9.283193</td>\n",
              "      <td>0.58</td>\n",
              "      <td>2.73</td>\n",
              "      <td>1.590</td>\n",
              "      <td>0.333553</td>\n",
              "      <td>0.536339</td>\n",
              "      <td>2018</td>\n",
              "      <td>2018</td>\n",
              "      <td>2018</td>\n",
              "      <td>0</td>\n",
              "      <td>0.0</td>\n",
              "      <td>1</td>\n",
              "      <td>31</td>\n",
              "      <td>16.0</td>\n",
              "      <td>0.0</td>\n",
              "      <td>9.092121</td>\n",
              "    </tr>\n",
              "    <tr>\n",
              "      <th>9</th>\n",
              "      <td>28.33</td>\n",
              "      <td>35.67</td>\n",
              "      <td>33.165</td>\n",
              "      <td>-0.677756</td>\n",
              "      <td>1.796143</td>\n",
              "      <td>22.22</td>\n",
              "      <td>26.45</td>\n",
              "      <td>24.65</td>\n",
              "      <td>-0.385296</td>\n",
              "      <td>1.120670</td>\n",
              "      <td>0.0</td>\n",
              "      <td>54.75</td>\n",
              "      <td>0.0</td>\n",
              "      <td>5.098488</td>\n",
              "      <td>10.082490</td>\n",
              "      <td>83.99</td>\n",
              "      <td>100.00</td>\n",
              "      <td>93.290</td>\n",
              "      <td>-0.048563</td>\n",
              "      <td>4.541036</td>\n",
              "      <td>63.85</td>\n",
              "      <td>99.32</td>\n",
              "      <td>80.515</td>\n",
              "      <td>0.301324</td>\n",
              "      <td>10.351072</td>\n",
              "      <td>0.84</td>\n",
              "      <td>3.42</td>\n",
              "      <td>1.840</td>\n",
              "      <td>0.217611</td>\n",
              "      <td>0.619724</td>\n",
              "      <td>2018</td>\n",
              "      <td>2018</td>\n",
              "      <td>2018</td>\n",
              "      <td>0</td>\n",
              "      <td>0.0</td>\n",
              "      <td>1</td>\n",
              "      <td>30</td>\n",
              "      <td>15.5</td>\n",
              "      <td>0.0</td>\n",
              "      <td>8.803408</td>\n",
              "    </tr>\n",
              "    <tr>\n",
              "      <th>10</th>\n",
              "      <td>31.70</td>\n",
              "      <td>37.44</td>\n",
              "      <td>34.700</td>\n",
              "      <td>0.016551</td>\n",
              "      <td>1.668891</td>\n",
              "      <td>14.26</td>\n",
              "      <td>22.20</td>\n",
              "      <td>18.18</td>\n",
              "      <td>0.014428</td>\n",
              "      <td>2.495507</td>\n",
              "      <td>0.0</td>\n",
              "      <td>0.00</td>\n",
              "      <td>0.0</td>\n",
              "      <td>0.000000</td>\n",
              "      <td>0.000000</td>\n",
              "      <td>71.98</td>\n",
              "      <td>99.88</td>\n",
              "      <td>94.290</td>\n",
              "      <td>-0.658154</td>\n",
              "      <td>8.129906</td>\n",
              "      <td>51.94</td>\n",
              "      <td>74.53</td>\n",
              "      <td>65.520</td>\n",
              "      <td>-0.649258</td>\n",
              "      <td>5.562289</td>\n",
              "      <td>0.73</td>\n",
              "      <td>2.87</td>\n",
              "      <td>1.330</td>\n",
              "      <td>1.322957</td>\n",
              "      <td>0.501205</td>\n",
              "      <td>2018</td>\n",
              "      <td>2018</td>\n",
              "      <td>2018</td>\n",
              "      <td>0</td>\n",
              "      <td>0.0</td>\n",
              "      <td>1</td>\n",
              "      <td>31</td>\n",
              "      <td>16.0</td>\n",
              "      <td>0.0</td>\n",
              "      <td>9.092121</td>\n",
              "    </tr>\n",
              "    <tr>\n",
              "      <th>11</th>\n",
              "      <td>25.75</td>\n",
              "      <td>34.66</td>\n",
              "      <td>28.640</td>\n",
              "      <td>0.981999</td>\n",
              "      <td>2.192185</td>\n",
              "      <td>11.15</td>\n",
              "      <td>17.81</td>\n",
              "      <td>13.27</td>\n",
              "      <td>0.633376</td>\n",
              "      <td>1.800794</td>\n",
              "      <td>0.0</td>\n",
              "      <td>0.00</td>\n",
              "      <td>0.0</td>\n",
              "      <td>0.000000</td>\n",
              "      <td>0.000000</td>\n",
              "      <td>73.11</td>\n",
              "      <td>100.00</td>\n",
              "      <td>95.880</td>\n",
              "      <td>-1.171863</td>\n",
              "      <td>8.263393</td>\n",
              "      <td>44.90</td>\n",
              "      <td>74.78</td>\n",
              "      <td>68.530</td>\n",
              "      <td>-2.017962</td>\n",
              "      <td>6.008520</td>\n",
              "      <td>0.58</td>\n",
              "      <td>2.35</td>\n",
              "      <td>1.365</td>\n",
              "      <td>-0.036107</td>\n",
              "      <td>0.459692</td>\n",
              "      <td>2018</td>\n",
              "      <td>2018</td>\n",
              "      <td>2018</td>\n",
              "      <td>0</td>\n",
              "      <td>0.0</td>\n",
              "      <td>1</td>\n",
              "      <td>30</td>\n",
              "      <td>15.5</td>\n",
              "      <td>0.0</td>\n",
              "      <td>8.803408</td>\n",
              "    </tr>\n",
              "    <tr>\n",
              "      <th>12</th>\n",
              "      <td>19.46</td>\n",
              "      <td>26.37</td>\n",
              "      <td>22.540</td>\n",
              "      <td>0.008270</td>\n",
              "      <td>2.107032</td>\n",
              "      <td>4.12</td>\n",
              "      <td>11.43</td>\n",
              "      <td>7.89</td>\n",
              "      <td>-0.034790</td>\n",
              "      <td>2.225729</td>\n",
              "      <td>0.0</td>\n",
              "      <td>0.00</td>\n",
              "      <td>0.0</td>\n",
              "      <td>0.000000</td>\n",
              "      <td>0.000000</td>\n",
              "      <td>82.31</td>\n",
              "      <td>100.00</td>\n",
              "      <td>96.340</td>\n",
              "      <td>-0.752568</td>\n",
              "      <td>5.926627</td>\n",
              "      <td>52.09</td>\n",
              "      <td>76.99</td>\n",
              "      <td>58.720</td>\n",
              "      <td>0.490783</td>\n",
              "      <td>6.938549</td>\n",
              "      <td>0.00</td>\n",
              "      <td>2.55</td>\n",
              "      <td>1.330</td>\n",
              "      <td>-0.160106</td>\n",
              "      <td>0.618252</td>\n",
              "      <td>2018</td>\n",
              "      <td>2018</td>\n",
              "      <td>2018</td>\n",
              "      <td>0</td>\n",
              "      <td>0.0</td>\n",
              "      <td>1</td>\n",
              "      <td>31</td>\n",
              "      <td>16.0</td>\n",
              "      <td>0.0</td>\n",
              "      <td>9.092121</td>\n",
              "    </tr>\n",
              "  </tbody>\n",
              "</table>\n",
              "</div>\n",
              "      <button class=\"colab-df-convert\" onclick=\"convertToInteractive('df-d8b68d7e-13b1-4b12-8e41-4e61427728ed')\"\n",
              "              title=\"Convert this dataframe to an interactive table.\"\n",
              "              style=\"display:none;\">\n",
              "        \n",
              "  <svg xmlns=\"http://www.w3.org/2000/svg\" height=\"24px\"viewBox=\"0 0 24 24\"\n",
              "       width=\"24px\">\n",
              "    <path d=\"M0 0h24v24H0V0z\" fill=\"none\"/>\n",
              "    <path d=\"M18.56 5.44l.94 2.06.94-2.06 2.06-.94-2.06-.94-.94-2.06-.94 2.06-2.06.94zm-11 1L8.5 8.5l.94-2.06 2.06-.94-2.06-.94L8.5 2.5l-.94 2.06-2.06.94zm10 10l.94 2.06.94-2.06 2.06-.94-2.06-.94-.94-2.06-.94 2.06-2.06.94z\"/><path d=\"M17.41 7.96l-1.37-1.37c-.4-.4-.92-.59-1.43-.59-.52 0-1.04.2-1.43.59L10.3 9.45l-7.72 7.72c-.78.78-.78 2.05 0 2.83L4 21.41c.39.39.9.59 1.41.59.51 0 1.02-.2 1.41-.59l7.78-7.78 2.81-2.81c.8-.78.8-2.07 0-2.86zM5.41 20L4 18.59l7.72-7.72 1.47 1.35L5.41 20z\"/>\n",
              "  </svg>\n",
              "      </button>\n",
              "      \n",
              "  <style>\n",
              "    .colab-df-container {\n",
              "      display:flex;\n",
              "      flex-wrap:wrap;\n",
              "      gap: 12px;\n",
              "    }\n",
              "\n",
              "    .colab-df-convert {\n",
              "      background-color: #E8F0FE;\n",
              "      border: none;\n",
              "      border-radius: 50%;\n",
              "      cursor: pointer;\n",
              "      display: none;\n",
              "      fill: #1967D2;\n",
              "      height: 32px;\n",
              "      padding: 0 0 0 0;\n",
              "      width: 32px;\n",
              "    }\n",
              "\n",
              "    .colab-df-convert:hover {\n",
              "      background-color: #E2EBFA;\n",
              "      box-shadow: 0px 1px 2px rgba(60, 64, 67, 0.3), 0px 1px 3px 1px rgba(60, 64, 67, 0.15);\n",
              "      fill: #174EA6;\n",
              "    }\n",
              "\n",
              "    [theme=dark] .colab-df-convert {\n",
              "      background-color: #3B4455;\n",
              "      fill: #D2E3FC;\n",
              "    }\n",
              "\n",
              "    [theme=dark] .colab-df-convert:hover {\n",
              "      background-color: #434B5C;\n",
              "      box-shadow: 0px 1px 3px 1px rgba(0, 0, 0, 0.15);\n",
              "      filter: drop-shadow(0px 1px 2px rgba(0, 0, 0, 0.3));\n",
              "      fill: #FFFFFF;\n",
              "    }\n",
              "  </style>\n",
              "\n",
              "      <script>\n",
              "        const buttonEl =\n",
              "          document.querySelector('#df-d8b68d7e-13b1-4b12-8e41-4e61427728ed button.colab-df-convert');\n",
              "        buttonEl.style.display =\n",
              "          google.colab.kernel.accessAllowed ? 'block' : 'none';\n",
              "\n",
              "        async function convertToInteractive(key) {\n",
              "          const element = document.querySelector('#df-d8b68d7e-13b1-4b12-8e41-4e61427728ed');\n",
              "          const dataTable =\n",
              "            await google.colab.kernel.invokeFunction('convertToInteractive',\n",
              "                                                     [key], {});\n",
              "          if (!dataTable) return;\n",
              "\n",
              "          const docLinkHtml = 'Like what you see? Visit the ' +\n",
              "            '<a target=\"_blank\" href=https://colab.research.google.com/notebooks/data_table.ipynb>data table notebook</a>'\n",
              "            + ' to learn more about interactive tables.';\n",
              "          element.innerHTML = '';\n",
              "          dataTable['output_type'] = 'display_data';\n",
              "          await google.colab.output.renderOutput(dataTable, element);\n",
              "          const docLink = document.createElement('div');\n",
              "          docLink.innerHTML = docLinkHtml;\n",
              "          element.appendChild(docLink);\n",
              "        }\n",
              "      </script>\n",
              "    </div>\n",
              "  </div>\n",
              "  "
            ],
            "text/plain": [
              "      MaxTemp (°C)                           ... Day                      \n",
              "               min    max  median      skew  ... max median skew       std\n",
              "Month                                        ...                          \n",
              "1            13.70  26.20  21.480 -0.505655  ...  31   16.0  0.0  9.092121\n",
              "2            20.36  33.78  26.600  0.333153  ...  28   14.5  0.0  8.225975\n",
              "3            29.57  39.29  34.130  0.259136  ...  31   16.0  0.0  9.092121\n",
              "4            34.25  42.78  38.420 -0.057645  ...  30   15.5  0.0  8.803408\n",
              "5            33.93  46.03  40.620 -0.165019  ...  31   16.0  0.0  9.092121\n",
              "6            35.12  44.68  40.955 -0.478654  ...  30   15.5  0.0  8.803408\n",
              "7            28.41  40.74  35.810 -0.174986  ...  31   16.0  0.0  9.092121\n",
              "8            27.42  38.10  34.150 -0.616362  ...  31   16.0  0.0  9.092121\n",
              "9            28.33  35.67  33.165 -0.677756  ...  30   15.5  0.0  8.803408\n",
              "10           31.70  37.44  34.700  0.016551  ...  31   16.0  0.0  9.092121\n",
              "11           25.75  34.66  28.640  0.981999  ...  30   15.5  0.0  8.803408\n",
              "12           19.46  26.37  22.540  0.008270  ...  31   16.0  0.0  9.092121\n",
              "\n",
              "[12 rows x 40 columns]"
            ]
          },
          "metadata": {},
          "execution_count": 32
        }
      ]
    },
    {
      "cell_type": "code",
      "source": [
        "dataf2.loc['2018'].kurtosis() #kurtosis is not shown in groupby"
      ],
      "metadata": {
        "colab": {
          "base_uri": "https://localhost:8080/"
        },
        "id": "W0Gm0Bl-0iQl",
        "outputId": "c3beb75c-d93a-4c65-8662-e359e84f4b5d"
      },
      "execution_count": null,
      "outputs": [
        {
          "output_type": "execute_result",
          "data": {
            "text/plain": [
              "MaxTemp (°C)               -0.444992\n",
              "MinTemp (°C)               -1.169691\n",
              "Rainfall (mm)              69.611620\n",
              "Humidity at 8:30 AM (%)    -0.123017\n",
              "Humidity at 5:30 PM (%)    -0.589848\n",
              "WindSpeed (m/s)             0.192642\n",
              "Year                        0.000000\n",
              "Month                      -1.207131\n",
              "Day                        -1.193042\n",
              "dtype: float64"
            ]
          },
          "metadata": {},
          "execution_count": 33
        }
      ]
    },
    {
      "cell_type": "markdown",
      "metadata": {
        "id": "bqYa3deLYZcl"
      },
      "source": [
        "#Q8. \n",
        "\n",
        "Consider the following properties of a trapezoidal channel:\n",
        "\n",
        "Bed width - 20 m\n",
        "Longitudinal slope - 0.001\n",
        "Slide slope - 2H:1V\n",
        "Flow depth - 2 m\n",
        "Discharge - 60 m3/s\n",
        "Manning's roughness - 0.012\n",
        "Length of the channel - 500 m\n",
        "\n",
        "(a) Create a dictionary to store the above data\n",
        "\n",
        "(b) Use dictionary comprehension to convert the 'values' in the dictionary from SI to FPS system\n",
        "\n",
        "(c) Write a lambda function to arrange 'keys' of the dictionary in an alphabetical order.\n",
        "\n",
        "(d) Draw the longitudinal profile of the channel and show normal depth line and critical depth line in it.\n",
        "\n",
        "(e) Draw the channel cross-section and show normal and critical flow depth in it.\n",
        "\n",
        "Write functions wherever required. \n",
        "\n",
        "Also, make necessary assumptions and clearly state them.\n"
      ]
    },
    {
      "cell_type": "code",
      "metadata": {
        "id": "LoXs5mXWYZcm",
        "colab": {
          "base_uri": "https://localhost:8080/"
        },
        "outputId": "827db2c1-ac82-41d2-992f-ab6c388b25cb"
      },
      "source": [
        "#a)\n",
        "channel_si = {\n",
        "    \"Bed width\": 20,\n",
        "    \"Longitutdnal slope\": .001,\n",
        "    \"Side slope\": .5,\n",
        "    \"Flow depth\": 2,\n",
        "    \"Discharge\": 60, \n",
        "    \"Manning's roughness\": 0.012,\n",
        "    \"Length of the channel\": 500\n",
        "\n",
        "}\n",
        "print(channel_si)"
      ],
      "execution_count": null,
      "outputs": [
        {
          "output_type": "stream",
          "name": "stdout",
          "text": [
            "{'Bed width': 20, 'Longitutdnal slope': 0.001, 'Side slope': 0.5, 'Flow depth': 2, 'Discharge': 60, \"Manning's roughness\": 0.012, 'Length of the channel': 500}\n"
          ]
        }
      ]
    },
    {
      "cell_type": "code",
      "source": [
        "#b)\n",
        "channel_fps = channel_si\n",
        "channel_fps['Bed width'] = channel_si['Bed width']*3.281\n",
        "channel_fps['Discharge'] = channel_si['Discharge']*3.281*3\n",
        "channel_fps['Flow depth'] = channel_si['Flow depth']*3.281\n",
        "channel_fps['Length of the channel']= channel_si['Length of the channel']*3.281\n",
        "print(channel_fps)"
      ],
      "metadata": {
        "colab": {
          "base_uri": "https://localhost:8080/"
        },
        "id": "8yZW3G6VYMFN",
        "outputId": "134d323a-2c19-43d2-8b7a-a42950d77be3"
      },
      "execution_count": null,
      "outputs": [
        {
          "output_type": "stream",
          "name": "stdout",
          "text": [
            "{'Bed width': 65.62, 'Longitutdnal slope': 0.001, 'Side slope': 0.5, 'Flow depth': 6.562, 'Discharge': 590.58, \"Manning's roughness\": 0.012, 'Length of the channel': 1640.5}\n"
          ]
        }
      ]
    },
    {
      "cell_type": "code",
      "source": [
        "#c)\n",
        "channel_si_sort = dict(sorted(channel_si.items(), key= lambda i:i[0]))\n",
        "channel_si_sort"
      ],
      "metadata": {
        "colab": {
          "base_uri": "https://localhost:8080/"
        },
        "id": "3lVSBFOvYkqZ",
        "outputId": "834cb4e0-74f0-454c-cf0f-35d18ac5e064"
      },
      "execution_count": null,
      "outputs": [
        {
          "output_type": "execute_result",
          "data": {
            "text/plain": [
              "{'Bed width': 65.62,\n",
              " 'Discharge': 590.58,\n",
              " 'Flow depth': 6.562,\n",
              " 'Length of the channel': 1640.5,\n",
              " 'Longitutdnal slope': 0.001,\n",
              " \"Manning's roughness\": 0.012,\n",
              " 'Side slope': 0.5}"
            ]
          },
          "metadata": {},
          "execution_count": 37
        }
      ]
    },
    {
      "cell_type": "code",
      "source": [
        "#d)\n",
        "from sympy import *\n",
        "#for normal depth\n",
        "y = Symbol(\"y\")\n",
        "mannings_eq = Eq(2.6352*(((20+2*y)*y)**(5/3))/((20+4.4721*y)**(2/3))-60,0)#after substituting the given values\n",
        "temp_sol = solve(mannings_eq)\n",
        "y_normal = [x for x in temp_sol if x.is_real][0] \n",
        "print(\"The normal depth is:\",y_normal)\n",
        "#for critical depth\n",
        "Q,b,g = 60,20,9.81\n",
        "q=Q/b\n",
        "y_critical = ((q**2)/g)**(1/3)\n",
        "print(\"The critical depth is:\",y_critical)"
      ],
      "metadata": {
        "colab": {
          "base_uri": "https://localhost:8080/"
        },
        "id": "LbKmnxmSYx68",
        "outputId": "b7d80f79-fe34-4942-b099-03a2bcbc6c23"
      },
      "execution_count": null,
      "outputs": [
        {
          "output_type": "stream",
          "name": "stdout",
          "text": [
            "The normal depth is: 1.06401740174985\n",
            "The critical depth is: 0.9716827674320039\n"
          ]
        }
      ]
    },
    {
      "cell_type": "code",
      "source": [
        "#plotting\n",
        "import matplotlib.pyplot as plt\n",
        "import numpy as np\n",
        "\n",
        "\n",
        "x=np.arange(0,600)\n",
        "\n",
        "\n",
        "b_slope=-0.001*x\n",
        "plt.plot(x,b_slope,'black', label='Channel Bed')\n",
        "ndl=y_normal-0.001*x\n",
        "plt.plot(x,ndl,'blue', label = 'Normal Depth Line')\n",
        "cdl=y_critical-0.001*x\n",
        "plt.plot(x,cdl,'red', label = 'Critical Depth Line')\n",
        "plt.title(\"Longitudinal Profile of Channel\")\n",
        "\n",
        "plt.xlabel(\"Length in meter\")\n",
        "plt.ylabel(\"Depth in meter\")\n",
        "plt.plot()\n",
        "plt.legend()\n"
      ],
      "metadata": {
        "colab": {
          "base_uri": "https://localhost:8080/",
          "height": 313
        },
        "id": "6b3k66jaZRtO",
        "outputId": "4deae3fa-0eac-46a6-8f84-3ea92682b146"
      },
      "execution_count": null,
      "outputs": [
        {
          "output_type": "execute_result",
          "data": {
            "text/plain": [
              "<matplotlib.legend.Legend at 0x7f52dcc2cf10>"
            ]
          },
          "metadata": {},
          "execution_count": 18
        },
        {
          "output_type": "display_data",
          "data": {
            "image/png": "[encoded data removed]",
            "text/plain": [
              "<Figure size 432x288 with 1 Axes>"
            ]
          },
          "metadata": {
            "needs_background": "light"
          }
        }
      ]
    },
    {
      "cell_type": "code",
      "source": [
        "#e)\n",
        "import numpy as np\n",
        "import matplotlib.pyplot as plt\n",
        "ax =plt.gca()\n",
        "X1=[5,25]\n",
        "Y1=[2,2]\n",
        "X2=[3,5]\n",
        "Y2=[4,2]\n",
        "X3=[25,27]\n",
        "Y3=[2,4]\n",
        "X = [4.13, 25.98]\n",
        "Y = [3.064017, 3.064017]\n",
        "X4=[4.25,25.9]\n",
        "Y4=[2.9716827,2.9716827]\n",
        "plt.plot(X,Y)\n",
        "plt.plot(X4,Y4)\n",
        "plt.plot(X1,Y1,'k')\n",
        "plt.plot(X2,Y2,'k')\n",
        "plt.plot(X3,Y3,'k')\n",
        "ax.set_xlim(0,30)\n",
        "ax.set_ylim(0,6)\n",
        "plt.title('Channel cross-section and normal and critical flow depth in it')\n",
        "plt.legend(['Normal Depth','Critical Depth'])\n",
        "plt.show()"
      ],
      "metadata": {
        "colab": {
          "base_uri": "https://localhost:8080/",
          "height": 281
        },
        "id": "smvc8aS5iF6J",
        "outputId": "974a20f4-a3ca-4974-eb87-ec301bf9c9d1"
      },
      "execution_count": null,
      "outputs": [
        {
          "output_type": "display_data",
          "data": {
            "image/png": "[encoded data removed]",
            "text/plain": [
              "<Figure size 432x288 with 1 Axes>"
            ]
          },
          "metadata": {
            "needs_background": "light"
          }
        }
      ]
    },
    {
      "cell_type": "code",
      "source": [
        ""
      ],
      "metadata": {
        "id": "l1pgNT_n4BnC"
      },
      "execution_count": null,
      "outputs": []
    }
  ]
}